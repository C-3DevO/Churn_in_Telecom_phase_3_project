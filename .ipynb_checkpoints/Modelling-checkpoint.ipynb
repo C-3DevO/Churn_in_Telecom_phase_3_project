{
 "cells": [
  {
   "cell_type": "markdown",
   "id": "8345590e",
   "metadata": {},
   "source": [
    "## Modeling"
   ]
  },
  {
   "cell_type": "code",
   "execution_count": null,
   "id": "ed0f18a5",
   "metadata": {},
   "outputs": [],
   "source": [
    "#label encode the target variable\n",
    "le = LabelEncoder()\n",
    "data['churn'] = le.fit_transform(data['churn'])"
   ]
  },
  {
   "cell_type": "code",
   "execution_count": null,
   "id": "e3f517c9",
   "metadata": {},
   "outputs": [],
   "source": [
    "#one hot encode intl plan and voice mail plan features\n",
    "cat = data[['international_plan','voice_mail_plan']]\n",
    "cat_ohe = pd.get_dummies(cat,drop_first=True,dtype='int')\n",
    "\n",
    "#merge the original data with the new cat columns\n",
    "merged_df = pd.concat([data,cat_ohe],axis=1)\n",
    "#drop the initial cat columns\n",
    "merged_df.drop(columns=cat.columns, inplace=True,axis=1)\n",
    "merged_df[:3]\n"
   ]
  },
  {
   "cell_type": "code",
   "execution_count": null,
   "id": "9de02484",
   "metadata": {},
   "outputs": [],
   "source": [
    "# separate features and target\n",
    "X = merged_df.drop(\"churn\",axis=1)\n",
    "y = merged_df.churn\n",
    "\n",
    "\n",
    "#split to train and test set\n",
    "X_train,X_test,y_train,y_test = train_test_split(X,y,test_size=0.2,random_state=42,stratify=y)\n",
    "X_train.shape ,X_test.shape ,y_train.shape ,y_test.shape"
   ]
  },
  {
   "cell_type": "code",
   "execution_count": null,
   "id": "b3a950f4",
   "metadata": {},
   "outputs": [],
   "source": [
    "#balance the training set\n",
    "smote = SMOTE(random_state=42)\n",
    "X_train_sm, y_train_sm = smote.fit_resample(X_train,y_train)\n",
    "#check on whether SMOTEN worked\n",
    "print(f\" Original values \\n {y_train.value_counts()}\\n\")\n",
    "print(f\"Smoted values \\n {y_train_sm.value_counts()}\")"
   ]
  },
  {
   "cell_type": "code",
   "execution_count": null,
   "id": "3823ba5b",
   "metadata": {},
   "outputs": [],
   "source": [
    "#scaling featues\n",
    "ss = StandardScaler()\n",
    "X_train_s = ss.fit_transform(X_train_sm)\n",
    "X_test_s = ss.transform(X_test)"
   ]
  },
  {
   "cell_type": "code",
   "execution_count": null,
   "id": "80d25e32",
   "metadata": {},
   "outputs": [],
   "source": [
    "#fit models\n",
    "models = {'logistic regression':LogisticRegression(random_state=42,max_iter=1000),\n",
    "          'Decision tree': DecisionTreeClassifier(random_state=42),\n",
    "          'Random Forest':RandomForestClassifier(random_state=42,n_estimators=200),\n",
    "          'Xgboost':XGBClassifier(random_state=42,use_label_encoder=False,eval_metric='logloss')\n",
    "          }\n",
    "results = []\n",
    "for name, model in models.items():\n",
    "    model.fit(X_train_s,y_train_sm)\n",
    "    y_pred = model.predict(X_test_s)\n",
    "    y_prob = model.predict_proba(X_test_s)[:,1]\n",
    "\n",
    "    results.append({'Model':name,\n",
    "                    'train score':model.score(X_train_s,y_train_sm),\n",
    "                    'test score':model.score(X_test_s,y_test),\n",
    "                    'Accuracy':accuracy_score(y_test,y_pred)*100,\n",
    "                    'Recall':recall_score(y_test,y_pred)*100,\n",
    "                    'Precision':precision_score(y_test,y_pred)*100,\n",
    "                    'F1 score':f1_score(y_test,y_pred)*100,\n",
    "                    'AUC':roc_auc_score(y_test,y_pred)*100\n",
    "                })\n",
    "results_df = pd.DataFrame(results).round(2)\n",
    "results_df = results_df[[\"Model\",'train score','test score', \"Accuracy\", \"Recall\", \"Precision\", \"F1 score\", \"AUC\"]]\n",
    "print(results_df.to_string(index=False))"
   ]
  },
  {
   "cell_type": "code",
   "execution_count": null,
   "id": "2f646d97",
   "metadata": {},
   "outputs": [],
   "source": [
    "#split the dataset using cross validation \n",
    "scoring = {\n",
    "    'accuracy': make_scorer(accuracy_score),\n",
    "    'recall': make_scorer(recall_score),\n",
    "    'precision': make_scorer(precision_score),\n",
    "    'f1': make_scorer(f1_score),\n",
    "    'roc_auc': make_scorer(roc_auc_score, needs_proba=True,pos_label=1),\n",
    "    'pr_auc': make_scorer(average_precision_score, needs_proba=True)\n",
    "}\n",
    "cv = StratifiedKFold(random_state=42,n_splits=10,shuffle=True)\n",
    "cv_results = {}\n",
    "for name,model in models.items():\n",
    "    cv_result = cross_validate(model,X,y,cv=cv,scoring=scoring,return_train_score=True)\n",
    "    cv_results[name]={metric:cv_result['test_'+metric].mean()*100 for metric in scoring.keys()}\n",
    "    cv_results[name]['train_accuracy'] = cv_result['train_accuracy'].mean()*100\n",
    "\n",
    "cv_results_df = pd.DataFrame(cv_results).T.round(2)\n",
    "print(cv_results_df)"
   ]
  },
  {
   "cell_type": "code",
   "execution_count": null,
   "id": "36cecef4",
   "metadata": {},
   "outputs": [],
   "source": [
    "#hyperparaeter tuning using grid search\n",
    "xgb = XGBClassifier(random_state=42,use_label_encoder=False,eval_metric='logloss')\n",
    "param_grid_xgb = {'learning_rate':[0.01,0.05,0.1],\n",
    "              'max_depth':[3,5,7,9],\n",
    "              'n_estimators':[100,200,300]\n",
    "}\n",
    "grid_search_xgb = GridSearchCV(scoring='recall',param_grid=param_grid_xgb, cv=5, estimator=xgb)\n",
    "grid_search_xgb.fit(X_train_s,y_train_sm)"
   ]
  },
  {
   "cell_type": "code",
   "execution_count": null,
   "id": "bca0d03a",
   "metadata": {},
   "outputs": [],
   "source": [
    "best_xgb = grid_search_xgb.best_estimator_\n",
    "print(f'the best parameters are: {grid_search_xgb.best_params_}')"
   ]
  },
  {
   "cell_type": "code",
   "execution_count": null,
   "id": "92fb9a16",
   "metadata": {},
   "outputs": [],
   "source": [
    "# y pred and y_prob\n",
    "y_best_pred = best_xgb.predict(X_test_s)\n",
    "y_best_prob = best_xgb.predict_proba(X_test_s)[:,1]\n",
    "print(f'classification report:\\n{classification_report(y_test,y_best_pred)}')\n",
    "print(\"AUC: {:.2f}\".format(roc_auc_score(y_test, y_prob)))"
   ]
  }
 ],
 "metadata": {
  "kernelspec": {
   "display_name": "Python 3 (ipykernel)",
   "language": "python",
   "name": "python3"
  },
  "language_info": {
   "codemirror_mode": {
    "name": "ipython",
    "version": 3
   },
   "file_extension": ".py",
   "mimetype": "text/x-python",
   "name": "python",
   "nbconvert_exporter": "python",
   "pygments_lexer": "ipython3",
   "version": "3.11.7"
  }
 },
 "nbformat": 4,
 "nbformat_minor": 5
}

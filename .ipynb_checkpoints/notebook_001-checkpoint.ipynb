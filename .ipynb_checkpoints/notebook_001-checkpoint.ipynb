{
 "cells": [
  {
   "cell_type": "markdown",
   "id": "1c81335b",
   "metadata": {},
   "source": [
    "#  SyriaTel Customer Churn"
   ]
  },
  {
   "cell_type": "markdown",
   "id": "a2076777",
   "metadata": {},
   "source": [
    "## Bussiness understanding"
   ]
  },
  {
   "cell_type": "markdown",
   "id": "290b3ae3",
   "metadata": {},
   "source": [
    "Customer churn is one of the most pressing challenges for telecommunications companies, as retaining existing customers is significantly more cost-effective than acquiring new ones. SyriaTel, like many telecom providers, experiences a steady loss of customers who discontinue their services.   \n",
    "\n",
    "SyriaTel, a telecom provider, wants to understand **which customers are most likely to churn** and **what factors contribute to churn**. By predicting churn early, the company can design retention strategies such as personalized offers, improved customer service, or plan adjustments to reduce customer loss.  \n",
    "\n",
    "#### Stakeholders  \n",
    "- **SyriaTel Management:** Interested in reducing churn rates to improve profitability.  \n",
    "- **Customer Retention Team:** Needs insights to design effective interventions for at-risk customers.  \n",
    "\n",
    "The key question is:  \n",
    " *“Can we predict which customers are likely to churn, and what behaviors signal higher churn risk?”*  \n",
    "---"
   ]
  },
  {
   "cell_type": "markdown",
   "id": "a2716eff",
   "metadata": {},
   "source": [
    "### Problem statement\n",
    "\n",
    "Currently, SyriaTel lacks a reliable method to **predict which customers are at risk of leaving**. Without such a system, the company cannot take proactive steps to retain customers, leading to revenue loss and reduced market competitiveness.  \n"
   ]
  },
  {
   "cell_type": "markdown",
   "id": "b7289aeb",
   "metadata": {},
   "source": [
    "### Goals and objectives\n",
    "\n",
    "---\n",
    "#### Goal  \n",
    "The primary goal of this project is to develop a **machine learning classification model** that predicts whether a customer will churn, enabling SyriaTel to take proactive actions that reduce churn and improve profitability. \n",
    "\n",
    "---\n",
    "\n",
    "#### Objectives  \n",
    "\n",
    "---\n",
    "To achieve this goal, the project will:  \n",
    "1. **Build predictive models** using customer account details, usage behavior, and service interactions.  \n",
    "2. **Identify key factors** that contribute most to churn, such as call usage, international plans, and customer service calls. \n",
    "3. **Evaluate model performance** using appropriate classification metrics (e.g., accuracy, precision, recall, F1-score).  \n",
    "4. **Provide actionable recommendations** for SyriaTel’s customer retention strategies based on model insights.  \n"
   ]
  },
  {
   "cell_type": "markdown",
   "id": "87975a0b",
   "metadata": {},
   "source": [
    "### Metric of success"
   ]
  },
  {
   "cell_type": "markdown",
   "id": "87a675e7",
   "metadata": {},
   "source": [
    "To add"
   ]
  },
  {
   "cell_type": "markdown",
   "id": "7443778a",
   "metadata": {},
   "source": [
    "## 2: Data Undestanding"
   ]
  },
  {
   "cell_type": "markdown",
   "id": "e9d86ccc",
   "metadata": {},
   "source": [
    "### 2.1: Data Overview \n",
    "\n",
    "The dataset used in this analysis is sourced from the **SyriaTel Customer Churn Dataset** on [Kaggle](https://www.kaggle.com/becksddf/churn-in-telecoms-dataset). It contains information on **3,333 customers** of SyriaTel, a telecommunications company.  The dataset is designed for a **binary classification problem** with the **Target variable:** `churn` (whether a customer left the company — `True`/`False`).  \n",
    "\n",
    "The core of the dataset is customer account details, usage behavior (calls, minutes, charges), and interactions with customer service. Together, these variables enable robust analysis of churn drivers and prediction.  \n",
    "\n",
    "---\n",
    "\n",
    "#### Column Name Meanings  \n",
    "\n",
    "| Column Name              | Meaning                                                                 |\n",
    "|--------------------------|-------------------------------------------------------------------------|\n",
    "| `state`                  | The U.S. state the customer resides in.                                 |\n",
    "| `account length`         | Number of days the account has been active.                             |\n",
    "| `area code`              | Customer’s assigned telephone area code.                                |\n",
    "| `phone number`           | Customer’s phone number (unique identifier).            |\n",
    "| `international plan`     | Whether the customer has an international calling plan (`yes`/`no`).    |\n",
    "| `voice mail plan`        | Whether the customer has a voicemail plan (`yes`/`no`).                 |\n",
    "| `number vmail messages`  | Number of voicemail messages recorded.                                  |\n",
    "| `total day minutes`      | Total number of minutes of calls made during the day.                   |\n",
    "| `total day calls`        | Total number of calls made during the day.                              |\n",
    "| `total day charge`       | Total charges for daytime calls.                                        |\n",
    "| `total eve minutes`      | Total minutes of evening calls.                                         |\n",
    "| `total eve calls`        | Total number of evening calls.                                          |\n",
    "| `total eve charge`       | Total charges for evening calls.                                        |\n",
    "| `total night minutes`    | Total minutes of night calls.                                           |\n",
    "| `total night calls`      | Total number of night calls.                                            |\n",
    "| `total night charge`     | Total charges for night calls.                                          |\n",
    "| `total intl minutes`     | Total minutes of international calls.                                   |\n",
    "| `total intl calls`       | Total number of international calls.                                    |\n",
    "| `total intl charge`      | Total charges for international calls.                                  |\n",
    "| `customer service calls` | Number of calls made to customer service.                               |\n",
    "| `churn`                  | **Target variable**: Whether the customer has churned (`True`/`False`). |\n"
   ]
  },
  {
   "cell_type": "markdown",
   "id": "23d39b6e",
   "metadata": {},
   "source": [
    "### 2.2: Data Description"
   ]
  },
  {
   "cell_type": "markdown",
   "id": "a93f8116",
   "metadata": {},
   "source": [
    "#### 2.2.1: Importing the dataset"
   ]
  },
  {
   "cell_type": "code",
   "execution_count": 1,
   "id": "d58818a1",
   "metadata": {},
   "outputs": [],
   "source": [
    "#importing the necessary libraries\n",
    "import pandas as pd \n",
    "import numpy as np \n",
    "import seaborn as sns \n",
    "import matplotlib.pyplot as plt \n",
    "import warnings \n",
    "warnings.filterwarnings(\"ignore\")\n",
    "import re"
   ]
  },
  {
   "cell_type": "code",
   "execution_count": 2,
   "id": "88349ba5",
   "metadata": {},
   "outputs": [
    {
     "data": {
      "text/html": [
       "<div>\n",
       "<style scoped>\n",
       "    .dataframe tbody tr th:only-of-type {\n",
       "        vertical-align: middle;\n",
       "    }\n",
       "\n",
       "    .dataframe tbody tr th {\n",
       "        vertical-align: top;\n",
       "    }\n",
       "\n",
       "    .dataframe thead th {\n",
       "        text-align: right;\n",
       "    }\n",
       "</style>\n",
       "<table border=\"1\" class=\"dataframe\">\n",
       "  <thead>\n",
       "    <tr style=\"text-align: right;\">\n",
       "      <th></th>\n",
       "      <th>state</th>\n",
       "      <th>account length</th>\n",
       "      <th>area code</th>\n",
       "      <th>phone number</th>\n",
       "      <th>international plan</th>\n",
       "      <th>voice mail plan</th>\n",
       "      <th>number vmail messages</th>\n",
       "      <th>total day minutes</th>\n",
       "      <th>total day calls</th>\n",
       "      <th>total day charge</th>\n",
       "      <th>...</th>\n",
       "      <th>total eve calls</th>\n",
       "      <th>total eve charge</th>\n",
       "      <th>total night minutes</th>\n",
       "      <th>total night calls</th>\n",
       "      <th>total night charge</th>\n",
       "      <th>total intl minutes</th>\n",
       "      <th>total intl calls</th>\n",
       "      <th>total intl charge</th>\n",
       "      <th>customer service calls</th>\n",
       "      <th>churn</th>\n",
       "    </tr>\n",
       "  </thead>\n",
       "  <tbody>\n",
       "    <tr>\n",
       "      <th>0</th>\n",
       "      <td>KS</td>\n",
       "      <td>128</td>\n",
       "      <td>415</td>\n",
       "      <td>382-4657</td>\n",
       "      <td>no</td>\n",
       "      <td>yes</td>\n",
       "      <td>25</td>\n",
       "      <td>265.1</td>\n",
       "      <td>110</td>\n",
       "      <td>45.07</td>\n",
       "      <td>...</td>\n",
       "      <td>99</td>\n",
       "      <td>16.78</td>\n",
       "      <td>244.7</td>\n",
       "      <td>91</td>\n",
       "      <td>11.01</td>\n",
       "      <td>10.0</td>\n",
       "      <td>3</td>\n",
       "      <td>2.70</td>\n",
       "      <td>1</td>\n",
       "      <td>False</td>\n",
       "    </tr>\n",
       "    <tr>\n",
       "      <th>1</th>\n",
       "      <td>OH</td>\n",
       "      <td>107</td>\n",
       "      <td>415</td>\n",
       "      <td>371-7191</td>\n",
       "      <td>no</td>\n",
       "      <td>yes</td>\n",
       "      <td>26</td>\n",
       "      <td>161.6</td>\n",
       "      <td>123</td>\n",
       "      <td>27.47</td>\n",
       "      <td>...</td>\n",
       "      <td>103</td>\n",
       "      <td>16.62</td>\n",
       "      <td>254.4</td>\n",
       "      <td>103</td>\n",
       "      <td>11.45</td>\n",
       "      <td>13.7</td>\n",
       "      <td>3</td>\n",
       "      <td>3.70</td>\n",
       "      <td>1</td>\n",
       "      <td>False</td>\n",
       "    </tr>\n",
       "    <tr>\n",
       "      <th>2</th>\n",
       "      <td>NJ</td>\n",
       "      <td>137</td>\n",
       "      <td>415</td>\n",
       "      <td>358-1921</td>\n",
       "      <td>no</td>\n",
       "      <td>no</td>\n",
       "      <td>0</td>\n",
       "      <td>243.4</td>\n",
       "      <td>114</td>\n",
       "      <td>41.38</td>\n",
       "      <td>...</td>\n",
       "      <td>110</td>\n",
       "      <td>10.30</td>\n",
       "      <td>162.6</td>\n",
       "      <td>104</td>\n",
       "      <td>7.32</td>\n",
       "      <td>12.2</td>\n",
       "      <td>5</td>\n",
       "      <td>3.29</td>\n",
       "      <td>0</td>\n",
       "      <td>False</td>\n",
       "    </tr>\n",
       "    <tr>\n",
       "      <th>3</th>\n",
       "      <td>OH</td>\n",
       "      <td>84</td>\n",
       "      <td>408</td>\n",
       "      <td>375-9999</td>\n",
       "      <td>yes</td>\n",
       "      <td>no</td>\n",
       "      <td>0</td>\n",
       "      <td>299.4</td>\n",
       "      <td>71</td>\n",
       "      <td>50.90</td>\n",
       "      <td>...</td>\n",
       "      <td>88</td>\n",
       "      <td>5.26</td>\n",
       "      <td>196.9</td>\n",
       "      <td>89</td>\n",
       "      <td>8.86</td>\n",
       "      <td>6.6</td>\n",
       "      <td>7</td>\n",
       "      <td>1.78</td>\n",
       "      <td>2</td>\n",
       "      <td>False</td>\n",
       "    </tr>\n",
       "    <tr>\n",
       "      <th>4</th>\n",
       "      <td>OK</td>\n",
       "      <td>75</td>\n",
       "      <td>415</td>\n",
       "      <td>330-6626</td>\n",
       "      <td>yes</td>\n",
       "      <td>no</td>\n",
       "      <td>0</td>\n",
       "      <td>166.7</td>\n",
       "      <td>113</td>\n",
       "      <td>28.34</td>\n",
       "      <td>...</td>\n",
       "      <td>122</td>\n",
       "      <td>12.61</td>\n",
       "      <td>186.9</td>\n",
       "      <td>121</td>\n",
       "      <td>8.41</td>\n",
       "      <td>10.1</td>\n",
       "      <td>3</td>\n",
       "      <td>2.73</td>\n",
       "      <td>3</td>\n",
       "      <td>False</td>\n",
       "    </tr>\n",
       "    <tr>\n",
       "      <th>...</th>\n",
       "      <td>...</td>\n",
       "      <td>...</td>\n",
       "      <td>...</td>\n",
       "      <td>...</td>\n",
       "      <td>...</td>\n",
       "      <td>...</td>\n",
       "      <td>...</td>\n",
       "      <td>...</td>\n",
       "      <td>...</td>\n",
       "      <td>...</td>\n",
       "      <td>...</td>\n",
       "      <td>...</td>\n",
       "      <td>...</td>\n",
       "      <td>...</td>\n",
       "      <td>...</td>\n",
       "      <td>...</td>\n",
       "      <td>...</td>\n",
       "      <td>...</td>\n",
       "      <td>...</td>\n",
       "      <td>...</td>\n",
       "      <td>...</td>\n",
       "    </tr>\n",
       "    <tr>\n",
       "      <th>3328</th>\n",
       "      <td>AZ</td>\n",
       "      <td>192</td>\n",
       "      <td>415</td>\n",
       "      <td>414-4276</td>\n",
       "      <td>no</td>\n",
       "      <td>yes</td>\n",
       "      <td>36</td>\n",
       "      <td>156.2</td>\n",
       "      <td>77</td>\n",
       "      <td>26.55</td>\n",
       "      <td>...</td>\n",
       "      <td>126</td>\n",
       "      <td>18.32</td>\n",
       "      <td>279.1</td>\n",
       "      <td>83</td>\n",
       "      <td>12.56</td>\n",
       "      <td>9.9</td>\n",
       "      <td>6</td>\n",
       "      <td>2.67</td>\n",
       "      <td>2</td>\n",
       "      <td>False</td>\n",
       "    </tr>\n",
       "    <tr>\n",
       "      <th>3329</th>\n",
       "      <td>WV</td>\n",
       "      <td>68</td>\n",
       "      <td>415</td>\n",
       "      <td>370-3271</td>\n",
       "      <td>no</td>\n",
       "      <td>no</td>\n",
       "      <td>0</td>\n",
       "      <td>231.1</td>\n",
       "      <td>57</td>\n",
       "      <td>39.29</td>\n",
       "      <td>...</td>\n",
       "      <td>55</td>\n",
       "      <td>13.04</td>\n",
       "      <td>191.3</td>\n",
       "      <td>123</td>\n",
       "      <td>8.61</td>\n",
       "      <td>9.6</td>\n",
       "      <td>4</td>\n",
       "      <td>2.59</td>\n",
       "      <td>3</td>\n",
       "      <td>False</td>\n",
       "    </tr>\n",
       "    <tr>\n",
       "      <th>3330</th>\n",
       "      <td>RI</td>\n",
       "      <td>28</td>\n",
       "      <td>510</td>\n",
       "      <td>328-8230</td>\n",
       "      <td>no</td>\n",
       "      <td>no</td>\n",
       "      <td>0</td>\n",
       "      <td>180.8</td>\n",
       "      <td>109</td>\n",
       "      <td>30.74</td>\n",
       "      <td>...</td>\n",
       "      <td>58</td>\n",
       "      <td>24.55</td>\n",
       "      <td>191.9</td>\n",
       "      <td>91</td>\n",
       "      <td>8.64</td>\n",
       "      <td>14.1</td>\n",
       "      <td>6</td>\n",
       "      <td>3.81</td>\n",
       "      <td>2</td>\n",
       "      <td>False</td>\n",
       "    </tr>\n",
       "    <tr>\n",
       "      <th>3331</th>\n",
       "      <td>CT</td>\n",
       "      <td>184</td>\n",
       "      <td>510</td>\n",
       "      <td>364-6381</td>\n",
       "      <td>yes</td>\n",
       "      <td>no</td>\n",
       "      <td>0</td>\n",
       "      <td>213.8</td>\n",
       "      <td>105</td>\n",
       "      <td>36.35</td>\n",
       "      <td>...</td>\n",
       "      <td>84</td>\n",
       "      <td>13.57</td>\n",
       "      <td>139.2</td>\n",
       "      <td>137</td>\n",
       "      <td>6.26</td>\n",
       "      <td>5.0</td>\n",
       "      <td>10</td>\n",
       "      <td>1.35</td>\n",
       "      <td>2</td>\n",
       "      <td>False</td>\n",
       "    </tr>\n",
       "    <tr>\n",
       "      <th>3332</th>\n",
       "      <td>TN</td>\n",
       "      <td>74</td>\n",
       "      <td>415</td>\n",
       "      <td>400-4344</td>\n",
       "      <td>no</td>\n",
       "      <td>yes</td>\n",
       "      <td>25</td>\n",
       "      <td>234.4</td>\n",
       "      <td>113</td>\n",
       "      <td>39.85</td>\n",
       "      <td>...</td>\n",
       "      <td>82</td>\n",
       "      <td>22.60</td>\n",
       "      <td>241.4</td>\n",
       "      <td>77</td>\n",
       "      <td>10.86</td>\n",
       "      <td>13.7</td>\n",
       "      <td>4</td>\n",
       "      <td>3.70</td>\n",
       "      <td>0</td>\n",
       "      <td>False</td>\n",
       "    </tr>\n",
       "  </tbody>\n",
       "</table>\n",
       "<p>3333 rows × 21 columns</p>\n",
       "</div>"
      ],
      "text/plain": [
       "     state  account length  area code phone number international plan  \\\n",
       "0       KS             128        415     382-4657                 no   \n",
       "1       OH             107        415     371-7191                 no   \n",
       "2       NJ             137        415     358-1921                 no   \n",
       "3       OH              84        408     375-9999                yes   \n",
       "4       OK              75        415     330-6626                yes   \n",
       "...    ...             ...        ...          ...                ...   \n",
       "3328    AZ             192        415     414-4276                 no   \n",
       "3329    WV              68        415     370-3271                 no   \n",
       "3330    RI              28        510     328-8230                 no   \n",
       "3331    CT             184        510     364-6381                yes   \n",
       "3332    TN              74        415     400-4344                 no   \n",
       "\n",
       "     voice mail plan  number vmail messages  total day minutes  \\\n",
       "0                yes                     25              265.1   \n",
       "1                yes                     26              161.6   \n",
       "2                 no                      0              243.4   \n",
       "3                 no                      0              299.4   \n",
       "4                 no                      0              166.7   \n",
       "...              ...                    ...                ...   \n",
       "3328             yes                     36              156.2   \n",
       "3329              no                      0              231.1   \n",
       "3330              no                      0              180.8   \n",
       "3331              no                      0              213.8   \n",
       "3332             yes                     25              234.4   \n",
       "\n",
       "      total day calls  total day charge  ...  total eve calls  \\\n",
       "0                 110             45.07  ...               99   \n",
       "1                 123             27.47  ...              103   \n",
       "2                 114             41.38  ...              110   \n",
       "3                  71             50.90  ...               88   \n",
       "4                 113             28.34  ...              122   \n",
       "...               ...               ...  ...              ...   \n",
       "3328               77             26.55  ...              126   \n",
       "3329               57             39.29  ...               55   \n",
       "3330              109             30.74  ...               58   \n",
       "3331              105             36.35  ...               84   \n",
       "3332              113             39.85  ...               82   \n",
       "\n",
       "      total eve charge  total night minutes  total night calls  \\\n",
       "0                16.78                244.7                 91   \n",
       "1                16.62                254.4                103   \n",
       "2                10.30                162.6                104   \n",
       "3                 5.26                196.9                 89   \n",
       "4                12.61                186.9                121   \n",
       "...                ...                  ...                ...   \n",
       "3328             18.32                279.1                 83   \n",
       "3329             13.04                191.3                123   \n",
       "3330             24.55                191.9                 91   \n",
       "3331             13.57                139.2                137   \n",
       "3332             22.60                241.4                 77   \n",
       "\n",
       "      total night charge  total intl minutes  total intl calls  \\\n",
       "0                  11.01                10.0                 3   \n",
       "1                  11.45                13.7                 3   \n",
       "2                   7.32                12.2                 5   \n",
       "3                   8.86                 6.6                 7   \n",
       "4                   8.41                10.1                 3   \n",
       "...                  ...                 ...               ...   \n",
       "3328               12.56                 9.9                 6   \n",
       "3329                8.61                 9.6                 4   \n",
       "3330                8.64                14.1                 6   \n",
       "3331                6.26                 5.0                10   \n",
       "3332               10.86                13.7                 4   \n",
       "\n",
       "      total intl charge  customer service calls  churn  \n",
       "0                  2.70                       1  False  \n",
       "1                  3.70                       1  False  \n",
       "2                  3.29                       0  False  \n",
       "3                  1.78                       2  False  \n",
       "4                  2.73                       3  False  \n",
       "...                 ...                     ...    ...  \n",
       "3328               2.67                       2  False  \n",
       "3329               2.59                       3  False  \n",
       "3330               3.81                       2  False  \n",
       "3331               1.35                       2  False  \n",
       "3332               3.70                       0  False  \n",
       "\n",
       "[3333 rows x 21 columns]"
      ]
     },
     "execution_count": 2,
     "metadata": {},
     "output_type": "execute_result"
    }
   ],
   "source": [
    "#Reading the dataset and checking top five rows and last five rows\n",
    "data = pd.read_csv('original_data/churn_telecom.csv')\n",
    "data"
   ]
  },
  {
   "cell_type": "markdown",
   "id": "fdbbca41",
   "metadata": {},
   "source": [
    "#### 2.2.2: Basic Structure"
   ]
  },
  {
   "cell_type": "code",
   "execution_count": 3,
   "id": "926b713e",
   "metadata": {},
   "outputs": [
    {
     "data": {
      "text/plain": [
       "(3333, 21)"
      ]
     },
     "execution_count": 3,
     "metadata": {},
     "output_type": "execute_result"
    }
   ],
   "source": [
    "#data shape\n",
    "data.shape"
   ]
  },
  {
   "cell_type": "code",
   "execution_count": 4,
   "id": "094ea2d1",
   "metadata": {},
   "outputs": [
    {
     "data": {
      "text/plain": [
       "Index(['state', 'account length', 'area code', 'phone number',\n",
       "       'international plan', 'voice mail plan', 'number vmail messages',\n",
       "       'total day minutes', 'total day calls', 'total day charge',\n",
       "       'total eve minutes', 'total eve calls', 'total eve charge',\n",
       "       'total night minutes', 'total night calls', 'total night charge',\n",
       "       'total intl minutes', 'total intl calls', 'total intl charge',\n",
       "       'customer service calls', 'churn'],\n",
       "      dtype='object')"
      ]
     },
     "execution_count": 4,
     "metadata": {},
     "output_type": "execute_result"
    }
   ],
   "source": [
    "#column names\n",
    "data.columns"
   ]
  },
  {
   "cell_type": "markdown",
   "id": "2eb3fcdf",
   "metadata": {},
   "source": [
    "#### 2.2.3: Overview of column types and non-null values"
   ]
  },
  {
   "cell_type": "code",
   "execution_count": 5,
   "id": "bcab475d",
   "metadata": {},
   "outputs": [
    {
     "name": "stdout",
     "output_type": "stream",
     "text": [
      "<class 'pandas.core.frame.DataFrame'>\n",
      "RangeIndex: 3333 entries, 0 to 3332\n",
      "Data columns (total 21 columns):\n",
      " #   Column                  Non-Null Count  Dtype  \n",
      "---  ------                  --------------  -----  \n",
      " 0   state                   3333 non-null   object \n",
      " 1   account length          3333 non-null   int64  \n",
      " 2   area code               3333 non-null   int64  \n",
      " 3   phone number            3333 non-null   object \n",
      " 4   international plan      3333 non-null   object \n",
      " 5   voice mail plan         3333 non-null   object \n",
      " 6   number vmail messages   3333 non-null   int64  \n",
      " 7   total day minutes       3333 non-null   float64\n",
      " 8   total day calls         3333 non-null   int64  \n",
      " 9   total day charge        3333 non-null   float64\n",
      " 10  total eve minutes       3333 non-null   float64\n",
      " 11  total eve calls         3333 non-null   int64  \n",
      " 12  total eve charge        3333 non-null   float64\n",
      " 13  total night minutes     3333 non-null   float64\n",
      " 14  total night calls       3333 non-null   int64  \n",
      " 15  total night charge      3333 non-null   float64\n",
      " 16  total intl minutes      3333 non-null   float64\n",
      " 17  total intl calls        3333 non-null   int64  \n",
      " 18  total intl charge       3333 non-null   float64\n",
      " 19  customer service calls  3333 non-null   int64  \n",
      " 20  churn                   3333 non-null   bool   \n",
      "dtypes: bool(1), float64(8), int64(8), object(4)\n",
      "memory usage: 524.2+ KB\n"
     ]
    }
   ],
   "source": [
    "data.info()"
   ]
  },
  {
   "cell_type": "markdown",
   "id": "531fdaa3",
   "metadata": {},
   "source": [
    "#### 2.2.4: Summary statistics numerical"
   ]
  },
  {
   "cell_type": "code",
   "execution_count": 6,
   "id": "7c0fe6b3",
   "metadata": {},
   "outputs": [
    {
     "data": {
      "text/html": [
       "<div>\n",
       "<style scoped>\n",
       "    .dataframe tbody tr th:only-of-type {\n",
       "        vertical-align: middle;\n",
       "    }\n",
       "\n",
       "    .dataframe tbody tr th {\n",
       "        vertical-align: top;\n",
       "    }\n",
       "\n",
       "    .dataframe thead th {\n",
       "        text-align: right;\n",
       "    }\n",
       "</style>\n",
       "<table border=\"1\" class=\"dataframe\">\n",
       "  <thead>\n",
       "    <tr style=\"text-align: right;\">\n",
       "      <th></th>\n",
       "      <th>count</th>\n",
       "      <th>mean</th>\n",
       "      <th>std</th>\n",
       "      <th>min</th>\n",
       "      <th>25%</th>\n",
       "      <th>50%</th>\n",
       "      <th>75%</th>\n",
       "      <th>max</th>\n",
       "    </tr>\n",
       "  </thead>\n",
       "  <tbody>\n",
       "    <tr>\n",
       "      <th>account length</th>\n",
       "      <td>3333.0</td>\n",
       "      <td>101.064806</td>\n",
       "      <td>39.822106</td>\n",
       "      <td>1.00</td>\n",
       "      <td>74.00</td>\n",
       "      <td>101.00</td>\n",
       "      <td>127.00</td>\n",
       "      <td>243.00</td>\n",
       "    </tr>\n",
       "    <tr>\n",
       "      <th>area code</th>\n",
       "      <td>3333.0</td>\n",
       "      <td>437.182418</td>\n",
       "      <td>42.371290</td>\n",
       "      <td>408.00</td>\n",
       "      <td>408.00</td>\n",
       "      <td>415.00</td>\n",
       "      <td>510.00</td>\n",
       "      <td>510.00</td>\n",
       "    </tr>\n",
       "    <tr>\n",
       "      <th>number vmail messages</th>\n",
       "      <td>3333.0</td>\n",
       "      <td>8.099010</td>\n",
       "      <td>13.688365</td>\n",
       "      <td>0.00</td>\n",
       "      <td>0.00</td>\n",
       "      <td>0.00</td>\n",
       "      <td>20.00</td>\n",
       "      <td>51.00</td>\n",
       "    </tr>\n",
       "    <tr>\n",
       "      <th>total day minutes</th>\n",
       "      <td>3333.0</td>\n",
       "      <td>179.775098</td>\n",
       "      <td>54.467389</td>\n",
       "      <td>0.00</td>\n",
       "      <td>143.70</td>\n",
       "      <td>179.40</td>\n",
       "      <td>216.40</td>\n",
       "      <td>350.80</td>\n",
       "    </tr>\n",
       "    <tr>\n",
       "      <th>total day calls</th>\n",
       "      <td>3333.0</td>\n",
       "      <td>100.435644</td>\n",
       "      <td>20.069084</td>\n",
       "      <td>0.00</td>\n",
       "      <td>87.00</td>\n",
       "      <td>101.00</td>\n",
       "      <td>114.00</td>\n",
       "      <td>165.00</td>\n",
       "    </tr>\n",
       "    <tr>\n",
       "      <th>total day charge</th>\n",
       "      <td>3333.0</td>\n",
       "      <td>30.562307</td>\n",
       "      <td>9.259435</td>\n",
       "      <td>0.00</td>\n",
       "      <td>24.43</td>\n",
       "      <td>30.50</td>\n",
       "      <td>36.79</td>\n",
       "      <td>59.64</td>\n",
       "    </tr>\n",
       "    <tr>\n",
       "      <th>total eve minutes</th>\n",
       "      <td>3333.0</td>\n",
       "      <td>200.980348</td>\n",
       "      <td>50.713844</td>\n",
       "      <td>0.00</td>\n",
       "      <td>166.60</td>\n",
       "      <td>201.40</td>\n",
       "      <td>235.30</td>\n",
       "      <td>363.70</td>\n",
       "    </tr>\n",
       "    <tr>\n",
       "      <th>total eve calls</th>\n",
       "      <td>3333.0</td>\n",
       "      <td>100.114311</td>\n",
       "      <td>19.922625</td>\n",
       "      <td>0.00</td>\n",
       "      <td>87.00</td>\n",
       "      <td>100.00</td>\n",
       "      <td>114.00</td>\n",
       "      <td>170.00</td>\n",
       "    </tr>\n",
       "    <tr>\n",
       "      <th>total eve charge</th>\n",
       "      <td>3333.0</td>\n",
       "      <td>17.083540</td>\n",
       "      <td>4.310668</td>\n",
       "      <td>0.00</td>\n",
       "      <td>14.16</td>\n",
       "      <td>17.12</td>\n",
       "      <td>20.00</td>\n",
       "      <td>30.91</td>\n",
       "    </tr>\n",
       "    <tr>\n",
       "      <th>total night minutes</th>\n",
       "      <td>3333.0</td>\n",
       "      <td>200.872037</td>\n",
       "      <td>50.573847</td>\n",
       "      <td>23.20</td>\n",
       "      <td>167.00</td>\n",
       "      <td>201.20</td>\n",
       "      <td>235.30</td>\n",
       "      <td>395.00</td>\n",
       "    </tr>\n",
       "    <tr>\n",
       "      <th>total night calls</th>\n",
       "      <td>3333.0</td>\n",
       "      <td>100.107711</td>\n",
       "      <td>19.568609</td>\n",
       "      <td>33.00</td>\n",
       "      <td>87.00</td>\n",
       "      <td>100.00</td>\n",
       "      <td>113.00</td>\n",
       "      <td>175.00</td>\n",
       "    </tr>\n",
       "    <tr>\n",
       "      <th>total night charge</th>\n",
       "      <td>3333.0</td>\n",
       "      <td>9.039325</td>\n",
       "      <td>2.275873</td>\n",
       "      <td>1.04</td>\n",
       "      <td>7.52</td>\n",
       "      <td>9.05</td>\n",
       "      <td>10.59</td>\n",
       "      <td>17.77</td>\n",
       "    </tr>\n",
       "    <tr>\n",
       "      <th>total intl minutes</th>\n",
       "      <td>3333.0</td>\n",
       "      <td>10.237294</td>\n",
       "      <td>2.791840</td>\n",
       "      <td>0.00</td>\n",
       "      <td>8.50</td>\n",
       "      <td>10.30</td>\n",
       "      <td>12.10</td>\n",
       "      <td>20.00</td>\n",
       "    </tr>\n",
       "    <tr>\n",
       "      <th>total intl calls</th>\n",
       "      <td>3333.0</td>\n",
       "      <td>4.479448</td>\n",
       "      <td>2.461214</td>\n",
       "      <td>0.00</td>\n",
       "      <td>3.00</td>\n",
       "      <td>4.00</td>\n",
       "      <td>6.00</td>\n",
       "      <td>20.00</td>\n",
       "    </tr>\n",
       "    <tr>\n",
       "      <th>total intl charge</th>\n",
       "      <td>3333.0</td>\n",
       "      <td>2.764581</td>\n",
       "      <td>0.753773</td>\n",
       "      <td>0.00</td>\n",
       "      <td>2.30</td>\n",
       "      <td>2.78</td>\n",
       "      <td>3.27</td>\n",
       "      <td>5.40</td>\n",
       "    </tr>\n",
       "    <tr>\n",
       "      <th>customer service calls</th>\n",
       "      <td>3333.0</td>\n",
       "      <td>1.562856</td>\n",
       "      <td>1.315491</td>\n",
       "      <td>0.00</td>\n",
       "      <td>1.00</td>\n",
       "      <td>1.00</td>\n",
       "      <td>2.00</td>\n",
       "      <td>9.00</td>\n",
       "    </tr>\n",
       "  </tbody>\n",
       "</table>\n",
       "</div>"
      ],
      "text/plain": [
       "                         count        mean        std     min     25%     50%  \\\n",
       "account length          3333.0  101.064806  39.822106    1.00   74.00  101.00   \n",
       "area code               3333.0  437.182418  42.371290  408.00  408.00  415.00   \n",
       "number vmail messages   3333.0    8.099010  13.688365    0.00    0.00    0.00   \n",
       "total day minutes       3333.0  179.775098  54.467389    0.00  143.70  179.40   \n",
       "total day calls         3333.0  100.435644  20.069084    0.00   87.00  101.00   \n",
       "total day charge        3333.0   30.562307   9.259435    0.00   24.43   30.50   \n",
       "total eve minutes       3333.0  200.980348  50.713844    0.00  166.60  201.40   \n",
       "total eve calls         3333.0  100.114311  19.922625    0.00   87.00  100.00   \n",
       "total eve charge        3333.0   17.083540   4.310668    0.00   14.16   17.12   \n",
       "total night minutes     3333.0  200.872037  50.573847   23.20  167.00  201.20   \n",
       "total night calls       3333.0  100.107711  19.568609   33.00   87.00  100.00   \n",
       "total night charge      3333.0    9.039325   2.275873    1.04    7.52    9.05   \n",
       "total intl minutes      3333.0   10.237294   2.791840    0.00    8.50   10.30   \n",
       "total intl calls        3333.0    4.479448   2.461214    0.00    3.00    4.00   \n",
       "total intl charge       3333.0    2.764581   0.753773    0.00    2.30    2.78   \n",
       "customer service calls  3333.0    1.562856   1.315491    0.00    1.00    1.00   \n",
       "\n",
       "                           75%     max  \n",
       "account length          127.00  243.00  \n",
       "area code               510.00  510.00  \n",
       "number vmail messages    20.00   51.00  \n",
       "total day minutes       216.40  350.80  \n",
       "total day calls         114.00  165.00  \n",
       "total day charge         36.79   59.64  \n",
       "total eve minutes       235.30  363.70  \n",
       "total eve calls         114.00  170.00  \n",
       "total eve charge         20.00   30.91  \n",
       "total night minutes     235.30  395.00  \n",
       "total night calls       113.00  175.00  \n",
       "total night charge       10.59   17.77  \n",
       "total intl minutes       12.10   20.00  \n",
       "total intl calls          6.00   20.00  \n",
       "total intl charge         3.27    5.40  \n",
       "customer service calls    2.00    9.00  "
      ]
     },
     "execution_count": 6,
     "metadata": {},
     "output_type": "execute_result"
    }
   ],
   "source": [
    "data.describe(include='number').T"
   ]
  },
  {
   "cell_type": "markdown",
   "id": "7df00bce",
   "metadata": {},
   "source": [
    "#### 2.2.5: Summary statistics categorical"
   ]
  },
  {
   "cell_type": "code",
   "execution_count": 7,
   "id": "5a0e3caa",
   "metadata": {},
   "outputs": [
    {
     "data": {
      "text/html": [
       "<div>\n",
       "<style scoped>\n",
       "    .dataframe tbody tr th:only-of-type {\n",
       "        vertical-align: middle;\n",
       "    }\n",
       "\n",
       "    .dataframe tbody tr th {\n",
       "        vertical-align: top;\n",
       "    }\n",
       "\n",
       "    .dataframe thead th {\n",
       "        text-align: right;\n",
       "    }\n",
       "</style>\n",
       "<table border=\"1\" class=\"dataframe\">\n",
       "  <thead>\n",
       "    <tr style=\"text-align: right;\">\n",
       "      <th></th>\n",
       "      <th>state</th>\n",
       "      <th>phone number</th>\n",
       "      <th>international plan</th>\n",
       "      <th>voice mail plan</th>\n",
       "    </tr>\n",
       "  </thead>\n",
       "  <tbody>\n",
       "    <tr>\n",
       "      <th>count</th>\n",
       "      <td>3333</td>\n",
       "      <td>3333</td>\n",
       "      <td>3333</td>\n",
       "      <td>3333</td>\n",
       "    </tr>\n",
       "    <tr>\n",
       "      <th>unique</th>\n",
       "      <td>51</td>\n",
       "      <td>3333</td>\n",
       "      <td>2</td>\n",
       "      <td>2</td>\n",
       "    </tr>\n",
       "    <tr>\n",
       "      <th>top</th>\n",
       "      <td>WV</td>\n",
       "      <td>382-4657</td>\n",
       "      <td>no</td>\n",
       "      <td>no</td>\n",
       "    </tr>\n",
       "    <tr>\n",
       "      <th>freq</th>\n",
       "      <td>106</td>\n",
       "      <td>1</td>\n",
       "      <td>3010</td>\n",
       "      <td>2411</td>\n",
       "    </tr>\n",
       "  </tbody>\n",
       "</table>\n",
       "</div>"
      ],
      "text/plain": [
       "       state phone number international plan voice mail plan\n",
       "count   3333         3333               3333            3333\n",
       "unique    51         3333                  2               2\n",
       "top       WV     382-4657                 no              no\n",
       "freq     106            1               3010            2411"
      ]
     },
     "execution_count": 7,
     "metadata": {},
     "output_type": "execute_result"
    }
   ],
   "source": [
    "data.describe(include='O')"
   ]
  },
  {
   "cell_type": "markdown",
   "id": "8337d524",
   "metadata": {},
   "source": [
    "#### 2.2.6: Missing values"
   ]
  },
  {
   "cell_type": "code",
   "execution_count": 8,
   "id": "8700ad10",
   "metadata": {},
   "outputs": [
    {
     "data": {
      "text/plain": [
       "state                     0.0\n",
       "account length            0.0\n",
       "area code                 0.0\n",
       "phone number              0.0\n",
       "international plan        0.0\n",
       "voice mail plan           0.0\n",
       "number vmail messages     0.0\n",
       "total day minutes         0.0\n",
       "total day calls           0.0\n",
       "total day charge          0.0\n",
       "total eve minutes         0.0\n",
       "total eve calls           0.0\n",
       "total eve charge          0.0\n",
       "total night minutes       0.0\n",
       "total night calls         0.0\n",
       "total night charge        0.0\n",
       "total intl minutes        0.0\n",
       "total intl calls          0.0\n",
       "total intl charge         0.0\n",
       "customer service calls    0.0\n",
       "churn                     0.0\n",
       "dtype: float64"
      ]
     },
     "execution_count": 8,
     "metadata": {},
     "output_type": "execute_result"
    }
   ],
   "source": [
    "data.isna().mean()*100"
   ]
  },
  {
   "cell_type": "markdown",
   "id": "09c60b02",
   "metadata": {},
   "source": [
    "#### 2.2.7: Duplicates"
   ]
  },
  {
   "cell_type": "code",
   "execution_count": 9,
   "id": "d971a120",
   "metadata": {},
   "outputs": [
    {
     "data": {
      "text/plain": [
       "0"
      ]
     },
     "execution_count": 9,
     "metadata": {},
     "output_type": "execute_result"
    }
   ],
   "source": [
    "data.duplicated().sum()"
   ]
  },
  {
   "cell_type": "markdown",
   "id": "b2fefb85",
   "metadata": {},
   "source": [
    "### 2.3: Data Summary\n",
    "---\n",
    "\n",
    "The dataset consists of **3,333 customer records** with **21 attributes `[16 numeric, 4 categorical and 1 boolean]`**, capturing demographic details, account information, service usage, and churn status (whether a customer left or not). Features include customer state, account length, area code, subscription plans (international and voicemail), usage metrics (day, evening, night, international minutes/calls/charges), number of customer service calls, and the binary target variable `churn`.  \n",
    "\n",
    "---\n",
    "\n",
    "Numerical summaries show that customers, on average, have an account length of about **101 days**, make around **100 calls per time period (day/evening/night)**, and use approximately **180–200 minutes daily**. International usage is relatively low with a mean equal to 10 minutes and 4 to 5 calls, while the average number of customer service calls is **1.6**, with some customers contacting up to **9 times**.  \n",
    "\n",
    "---\n",
    "\n",
    "Categorical summaries reveal that most customers do not subscribe to an international plan (**~90% \"no\"**) or voicemail plan (**~72% \"no\"**). The dataset covers customers across **51 U.S. states**, but each phone number is unique, making it unsuitable as a predictive feature.  \n",
    "\n",
    "---\n",
    "\n",
    "The target variable `churn` is imbalanced: **14.5% of customers churned (483 records)**, while **85.5% did not churn (2,850 records)**. This imbalance is important to consider when training classification models, as it may bias predictions toward the majority class.  \n",
    "\n",
    "---\n",
    "\n",
    "The dataset contains **no missing values** or duplicates, making it clean and ready for modeling. This is highly relevant for our churn analysis, as it ensures the model can fully leverage all historical usage and interaction records without significant preprocessing.  \n",
    "\n",
    "---\n",
    "\n",
    "Overall, the dataset provides a balanced mix of **service usage, subscription plan details, and customer interaction features**, which are directly relevant for predicting churn and identifying factors that drive customer retention.  \n",
    "\n",
    "---"
   ]
  },
  {
   "cell_type": "markdown",
   "id": "b5e0dd1f",
   "metadata": {},
   "source": [
    "## 3: Data Preparation"
   ]
  },
  {
   "cell_type": "markdown",
   "id": "ffba9789",
   "metadata": {},
   "source": [
    "### 3.1: Data Cleaning"
   ]
  },
  {
   "cell_type": "markdown",
   "id": "ef4b8285",
   "metadata": {},
   "source": [
    "#### 3.1.1: Making a copy of the data"
   ]
  },
  {
   "cell_type": "code",
   "execution_count": 10,
   "id": "5fffa55a",
   "metadata": {},
   "outputs": [
    {
     "data": {
      "text/plain": [
       "(3333, 21)"
      ]
     },
     "execution_count": 10,
     "metadata": {},
     "output_type": "execute_result"
    }
   ],
   "source": [
    "#copy \n",
    "df = data.copy()\n",
    "df.shape"
   ]
  },
  {
   "cell_type": "markdown",
   "id": "395d370a",
   "metadata": {},
   "source": [
    "#### 3.1.2: Dropping unpredictive column(s)"
   ]
  },
  {
   "cell_type": "code",
   "execution_count": 11,
   "id": "902e0442",
   "metadata": {},
   "outputs": [
    {
     "data": {
      "text/plain": [
       "(3333, 20)"
      ]
     },
     "execution_count": 11,
     "metadata": {},
     "output_type": "execute_result"
    }
   ],
   "source": [
    "df.drop(columns=['phone number'], inplace=True)\n",
    "df.shape"
   ]
  },
  {
   "cell_type": "markdown",
   "id": "8e4792ce",
   "metadata": {},
   "source": [
    "**The decision to drop `phone number` column is because it contains unique identifiers for each customer and does not provide any meaningful information for predicting churn. keeping it would lead to aspects such as overfitting**"
   ]
  },
  {
   "cell_type": "markdown",
   "id": "56ff88e7",
   "metadata": {},
   "source": [
    "#### 3.1.3: Formating column names"
   ]
  },
  {
   "cell_type": "code",
   "execution_count": 12,
   "id": "774e1b4a",
   "metadata": {},
   "outputs": [
    {
     "data": {
      "text/plain": [
       "Index(['state', 'account length', 'area code', 'international plan',\n",
       "       'voice mail plan', 'number vmail messages', 'total day minutes',\n",
       "       'total day calls', 'total day charge', 'total eve minutes',\n",
       "       'total eve calls', 'total eve charge', 'total night minutes',\n",
       "       'total night calls', 'total night charge', 'total intl minutes',\n",
       "       'total intl calls', 'total intl charge', 'customer service calls',\n",
       "       'churn'],\n",
       "      dtype='object')"
      ]
     },
     "execution_count": 12,
     "metadata": {},
     "output_type": "execute_result"
    }
   ],
   "source": [
    "df.columns"
   ]
  },
  {
   "cell_type": "code",
   "execution_count": 13,
   "id": "91891bcb",
   "metadata": {},
   "outputs": [
    {
     "data": {
      "text/plain": [
       "Index(['state', 'acc_length', 'area_code', 'intl_plan', 'vmail_plan',\n",
       "       'num_vm_msgs', 'ttl_day_mins', 'ttl_day_calls', 'ttl_day_charge',\n",
       "       'ttl_eve_mins', 'ttl_eve_calls', 'ttl_eve_charge', 'ttl_ngt_mins',\n",
       "       'ttl_ngt_calls', 'ttl_ngt_charge', 'ttl_intl_mins', 'ttl_intl_calls',\n",
       "       'ttl_intl_charge', 'cust_service_calls', 'churn'],\n",
       "      dtype='object')"
      ]
     },
     "execution_count": 13,
     "metadata": {},
     "output_type": "execute_result"
    }
   ],
   "source": [
    "#creating mapper\n",
    "col_map = {\n",
    "    'state': 'state',\n",
    "    'account length': 'acc_length',\n",
    "    'area code': 'area_code',\n",
    "    'international plan': 'intl_plan',\n",
    "    'voice mail plan': 'vmail_plan',\n",
    "    'number vmail messages': 'num_vm_msgs',\n",
    "    'total day minutes': 'ttl_day_mins',\n",
    "    'total day calls': 'ttl_day_calls',\n",
    "    'total day charge': 'ttl_day_charge',\n",
    "    'total eve minutes': 'ttl_eve_mins',\n",
    "    'total eve calls': 'ttl_eve_calls',\n",
    "    'total eve charge': 'ttl_eve_charge',\n",
    "    'total night minutes': 'ttl_ngt_mins',\n",
    "    'total night calls': 'ttl_ngt_calls',\n",
    "    'total night charge': 'ttl_ngt_charge',\n",
    "    'total intl minutes': 'ttl_intl_mins',\n",
    "    'total intl calls': 'ttl_intl_calls',\n",
    "    'total intl charge': 'ttl_intl_charge',\n",
    "    'customer service calls': 'cust_service_calls',\n",
    "    'churn': 'churn'\n",
    "}\n",
    "\n",
    "# Applying mapping\n",
    "df.rename(columns=col_map, inplace=True)\n",
    "df.columns"
   ]
  },
  {
   "cell_type": "markdown",
   "id": "0bc9b97c",
   "metadata": {},
   "source": [
    "#### 3.1.4: Checking Unique Items"
   ]
  },
  {
   "cell_type": "code",
   "execution_count": 14,
   "id": "cefc608f",
   "metadata": {
    "scrolled": false
   },
   "outputs": [
    {
     "name": "stdout",
     "output_type": "stream",
     "text": [
      "Unique items in state:\n",
      "\n",
      "['KS' 'OH' 'NJ' 'OK' 'AL' 'MA' 'MO' 'LA' 'WV' 'IN' 'RI' 'IA' 'MT' 'NY'\n",
      " 'ID' 'VT' 'VA' 'TX' 'FL' 'CO' 'AZ' 'SC' 'NE' 'WY' 'HI' 'IL' 'NH' 'GA'\n",
      " 'AK' 'MD' 'AR' 'WI' 'OR' 'MI' 'DE' 'UT' 'CA' 'MN' 'SD' 'NC' 'WA' 'NM'\n",
      " 'NV' 'DC' 'KY' 'ME' 'MS' 'TN' 'PA' 'CT' 'ND']\n",
      "***********\n",
      "Unique items in acc_length:\n",
      "\n",
      "[128 107 137  84  75 118 121 147 117 141  65  74 168  95  62 161  85  93\n",
      "  76  73  77 130 111 132 174  57  54  20  49 142 172  12  72  36  78 136\n",
      " 149  98 135  34 160  64  59 119  97  52  60  10  96  87  81  68 125 116\n",
      "  38  40  43 113 126 150 138 162  90  50  82 144  46  70  55 106  94 155\n",
      "  80 104  99 120 108 122 157 103  63 112  41 193  61  92 131 163  91 127\n",
      " 110 140  83 145  56 151 139   6 115 146 185 148  32  25 179  67  19 170\n",
      " 164  51 208  53 105  66  86  35  88 123  45 100 215  22  33 114  24 101\n",
      " 143  48  71 167  89 199 166 158 196 209  16  39 173 129  44  79  31 124\n",
      "  37 159 194 154  21 133 224  58  11 109 102 165  18  30 176  47 190 152\n",
      "  26  69 186 171  28 153 169  13  27   3  42 189 156 134 243  23   1 205\n",
      " 200   5   9 178 181 182 217 177 210  29 180   2  17   7 212 232 192 195\n",
      " 197 225 184 191 201  15 183 202   8 175   4 188 204 221]\n",
      "***********\n",
      "Unique items in area_code:\n",
      "\n",
      "[415 408 510]\n",
      "***********\n",
      "Unique items in intl_plan:\n",
      "\n",
      "['no' 'yes']\n",
      "***********\n",
      "Unique items in vmail_plan:\n",
      "\n",
      "['yes' 'no']\n",
      "***********\n",
      "Unique items in num_vm_msgs:\n",
      "\n",
      "[25 26  0 24 37 27 33 39 30 41 28 34 46 29 35 21 32 42 36 22 23 43 31 38\n",
      " 40 48 18 17 45 16 20 14 19 51 15 11 12 47  8 44 49  4 10 13 50  9]\n",
      "***********\n",
      "Unique items in ttl_day_mins:\n",
      "\n",
      "[265.1 161.6 243.4 ... 321.1 231.1 180.8]\n",
      "***********\n",
      "Unique items in ttl_day_calls:\n",
      "\n",
      "[110 123 114  71 113  98  88  79  97  84 137 127  96  70  67 139  66  90\n",
      " 117  89 112 103  86  76 115  73 109  95 105 121 118  94  80 128  64 106\n",
      " 102  85  82  77 120 133 135 108  57  83 129  91  92  74  93 101 146  72\n",
      "  99 104 125  61 100  87 131  65 124 119  52  68 107  47 116 151 126 122\n",
      " 111 145  78 136 140 148  81  55  69 158 134 130  63  53  75 141 163  59\n",
      " 132 138  54  58  62 144 143 147  36  40 150  56  51 165  30  48  60  42\n",
      "   0  45 160 149 152 142 156  35  49 157  44]\n",
      "***********\n",
      "Unique items in ttl_day_charge:\n",
      "\n",
      "[45.07 27.47 41.38 ... 54.59 39.29 30.74]\n",
      "***********\n",
      "Unique items in ttl_eve_mins:\n",
      "\n",
      "[197.4 195.5 121.2 ... 153.4 288.8 265.9]\n",
      "***********\n",
      "Unique items in ttl_eve_calls:\n",
      "\n",
      "[ 99 103 110  88 122 101 108  94  80 111  83 148  71  75  76  97  90  65\n",
      "  93 121 102  72 112 100  84 109  63 107 115 119 116  92  85  98 118  74\n",
      " 117  58  96  66  67  62  77 164 126 142  64 104  79  95  86 105  81 113\n",
      " 106  59  48  82  87 123 114 140 128  60  78 125  91  46 138 129  89 133\n",
      " 136  57 135 139  51  70 151 137 134  73 152 168  68 120  69 127 132 143\n",
      "  61 124  42  54 131  52 149  56  37 130  49 146 147  55  12  50 157 155\n",
      "  45 144  36 156  53 141  44 153 154 150  43   0 145 159 170]\n",
      "***********\n",
      "Unique items in ttl_eve_charge:\n",
      "\n",
      "[16.78 16.62 10.3  ... 13.04 24.55 22.6 ]\n",
      "***********\n",
      "Unique items in ttl_ngt_mins:\n",
      "\n",
      "[244.7 254.4 162.6 ... 280.9 120.1 279.1]\n",
      "***********\n",
      "Unique items in ttl_ngt_calls:\n",
      "\n",
      "[ 91 103 104  89 121 118  96  90  97 111  94 128 115  99  75 108  74 133\n",
      "  64  78 105  68 102 148  98 116  71 109 107 135  92  86 127  79  87 129\n",
      "  57  77  95  54 106  53  67 139  60 100  61  73 113  76 119  88  84  62\n",
      " 137  72 142 114 126 122  81 123 117  82  80 120 130 134  59 112 132 110\n",
      " 101 150  69 131  83  93 124 136 125  66 143  58  55  85  56  70  46  42\n",
      " 152  44 145  50 153  49 175  63 138 154 140 141 146  65  51 151 158 155\n",
      " 157 147 144 149 166  52  33 156  38  36  48 164]\n",
      "***********\n",
      "Unique items in ttl_ngt_charge:\n",
      "\n",
      "[11.01 11.45  7.32  8.86  8.41  9.18  9.57  9.53  9.71 14.69  9.4   8.82\n",
      "  6.35  8.65  9.14  7.23  4.02  5.83  7.46  8.68  9.43  8.18  8.53 10.67\n",
      " 11.28  8.22  4.59  8.17  8.04 11.27 11.08 13.2  12.61  9.61  6.88  5.82\n",
      " 10.25  4.58  8.47  8.45  5.5  14.02  8.03 11.94  7.34  6.06 10.9   6.44\n",
      "  3.18 10.66 11.21 12.73 10.28 12.16  6.34  8.15  5.84  8.52  7.5   7.48\n",
      "  6.21 11.95  7.15  9.63  7.1   6.91  6.69 13.29 11.46  7.76  6.86  8.16\n",
      " 12.15  7.79  7.99 10.29 10.08 12.53  7.91 10.02  8.61 14.54  8.21  9.09\n",
      "  4.93 11.39 11.88  5.75  7.83  8.59  7.52 12.38  7.21  5.81  8.1  11.04\n",
      " 11.19  8.55  8.42  9.76  9.87 10.86  5.36 10.03 11.15  9.51  6.22  2.59\n",
      "  7.65  6.45  9.    6.4   9.94  5.08 10.23 11.36  6.97 10.16  7.88 11.91\n",
      "  6.61 11.55 11.76  9.27  9.29 11.12 10.69  8.8  11.85  7.14  8.71 11.42\n",
      "  4.94  9.02 11.22  4.97  9.15  5.45  7.27 12.91  7.75 13.46  6.32 12.13\n",
      " 11.97  6.93 11.66  7.42  6.19 11.41 10.33 10.65 11.92  4.77  4.38  7.41\n",
      " 12.1   7.69  8.78  9.36  9.05 12.7   6.16  6.05 10.85  8.93  3.48 10.4\n",
      "  5.05 10.71  9.37  6.75  8.12 11.77 11.49 11.06 11.25 11.03 10.82  8.91\n",
      "  8.57  8.09 10.05 11.7  10.17  8.74  5.51 11.11  3.29 10.13  6.8   8.49\n",
      "  9.55 11.02  9.91  7.84 10.62  9.97  3.44  7.35  9.79  8.89  8.14  6.94\n",
      " 10.49 10.57 10.2   6.29  8.79 10.04 12.41 15.97  9.1  11.78 12.75 11.07\n",
      " 12.56  8.63  8.02 10.42  8.7   9.98  7.62  8.33  6.59 13.12 10.46  6.63\n",
      "  8.32  9.04  9.28 10.76  9.64 11.44  6.48 10.81 12.66 11.34  8.75 13.05\n",
      " 11.48 14.04 13.47  5.63  6.6   9.72 11.68  6.41  9.32 12.95 13.37  9.62\n",
      "  6.03  8.25  8.26 11.96  9.9   9.23  5.58  7.22  6.64 12.29 12.93 11.32\n",
      "  6.85  8.88  7.03  8.48  3.59  5.86  6.23  7.61  7.66 13.63  7.9  11.82\n",
      "  7.47  6.08  8.4   5.74 10.94 10.35 10.68  4.34  8.73  5.14  8.24  9.99\n",
      " 13.93  8.64 11.43  5.79  9.2  10.14 12.11  7.53 12.46  8.46  8.95  9.84\n",
      " 10.8  11.23 10.15  9.21 14.46  6.67 12.83  9.66  9.59 10.48  8.36  4.84\n",
      " 10.54  8.39  7.43  9.06  8.94 11.13  8.87  8.5   7.6  10.73  9.56 10.77\n",
      "  7.73  3.47 11.86  8.11  9.78  9.42  9.65  7.    7.39  9.88  6.56  5.92\n",
      "  6.95 15.71  8.06  4.86  7.8   8.58 10.06  5.21  6.92  6.15 13.49  9.38\n",
      " 12.62 12.26  8.19 11.65 11.62 10.83  7.92  7.33 13.01 13.26 12.22 11.58\n",
      "  5.97 10.99  8.38  9.17  8.08  5.71  3.41 12.63 11.79 12.96  7.64  6.58\n",
      " 10.84 10.22  6.52  5.55  7.63  5.11  5.89 10.78  3.05 11.89  8.97 10.44\n",
      " 10.5   9.35  5.66 11.09  9.83  5.44 10.11  6.39 11.93  8.62 12.06  6.02\n",
      "  8.85  5.25  8.66  6.73 10.21 11.59 13.87  7.77 10.39  5.54  6.62 13.33\n",
      "  6.24 12.59  6.3   6.79  8.28  9.03  8.07  5.52 12.14 10.59  7.54  7.67\n",
      "  5.47  8.81  8.51 13.45  8.77  6.43 12.01 12.08  7.07  6.51  6.84  9.48\n",
      " 13.78 11.54 11.67  8.13 10.79  7.13  4.72  4.64  8.96 13.03  6.07  3.51\n",
      "  6.83  6.12  9.31  9.58  4.68  5.32  9.26 11.52  9.11 10.55 11.47  9.3\n",
      " 13.82  8.44  5.77 10.96 11.74  8.9  10.47  7.85 10.92  4.74  9.74 10.43\n",
      "  9.96 10.18  9.54  7.89 12.36  8.54 10.07  9.46  7.3  11.16  9.16 10.19\n",
      "  5.99 10.88  5.8   7.19  4.55  8.31  8.01 14.43  8.3  14.3   6.53  8.2\n",
      " 11.31 13.    6.42  4.24  7.44  7.51 13.1   9.49  6.14  8.76  6.65 10.56\n",
      "  6.72  8.29 12.09  5.39  2.96  7.59  7.24  4.28  9.7   8.83 13.3  11.37\n",
      "  9.33  5.01  3.26 11.71  8.43  9.68 15.56  9.8   3.61  6.96 11.61 12.81\n",
      " 10.87 13.84  5.03  5.17  2.03 10.34  9.34  7.95 10.09  9.95  7.11  9.22\n",
      "  6.13 11.05  9.89  9.39 14.06 10.26 13.31 15.43 16.39  6.27 10.64 11.5\n",
      " 12.48  8.27 13.53 10.36 12.24  8.69 10.52  9.07 11.51  9.25  8.72  6.78\n",
      "  8.6  11.84  5.78  5.85 12.3   5.76 12.07  9.6   8.84 12.39 10.1   9.73\n",
      "  2.85  6.66  2.45  5.28 11.73 10.75  7.74  6.76  6.    7.58 13.69  7.93\n",
      "  7.68  9.75  4.96  5.49 11.83  7.18  9.19  7.7   7.25 10.74  4.27 13.8\n",
      "  9.12  4.75  7.78 11.63  7.55  2.25  9.45  9.86  7.71  4.95  7.4  11.17\n",
      " 11.33  6.82 13.7   1.97 10.89 12.77 10.31  5.23  5.27  9.41  6.09 10.61\n",
      "  7.29  4.23  7.57  3.67 12.69 14.5   5.95  7.87  5.96  5.94 12.23  4.9\n",
      " 12.33  6.89  9.67 12.68 12.87  3.7   6.04 13.13 15.74 11.87  4.7   4.67\n",
      "  7.05  5.42  4.09  5.73  9.47  8.05  6.87  3.71 15.86  7.49 11.69  6.46\n",
      " 10.45 12.9   5.41 11.26  1.04  6.49  6.37 12.21  6.77 12.65  7.86  9.44\n",
      "  4.3   7.38  5.02 10.63  2.86 17.19  8.67  8.37  6.9  10.93 10.38  7.36\n",
      " 10.27 10.95  6.11  4.45 11.9  15.01 12.84  7.45  6.98 11.72  7.56 11.38\n",
      " 10.    4.42  9.81  5.56  6.01 10.12 12.4  16.99  5.68 11.64  3.78  7.82\n",
      "  9.85 13.74 12.71 10.98 10.01  9.52  7.31  8.35 11.35  9.5  14.03  3.2\n",
      "  7.72 13.22 10.7   8.99 10.6  13.02  9.77 12.58 12.35 12.2  11.4  13.91\n",
      "  3.57 14.65 12.28  5.13 10.72 12.86 14.    7.12 12.17  4.71  6.28  8.\n",
      "  7.01  5.91  5.2  12.   12.02 12.88  7.28  5.4  12.04  5.24 10.3  10.41\n",
      " 13.41 12.72  9.08  7.08 13.5   5.35 12.45  5.3  10.32  5.15 12.67  5.22\n",
      "  5.57  3.94  4.41 13.27 10.24  4.25 12.89  5.72 12.5  11.29  3.25 11.53\n",
      "  9.82  7.26  4.1  10.37  4.98  6.74 12.52 14.56  8.34  3.82  3.86 13.97\n",
      " 11.57  6.5  13.58 14.32 13.75 11.14 14.18  9.13  4.46  4.83  9.69 14.13\n",
      "  7.16  7.98 13.66 14.78 11.2   9.93 11.    5.29  9.92  4.29 11.1  10.51\n",
      " 12.49  4.04 12.94  7.09  6.71  7.94  5.31  5.98  7.2  14.82 13.21 12.32\n",
      " 10.58  4.92  6.2   4.47 11.98  6.18  7.81  4.54  5.37  7.17  5.33 14.1\n",
      "  5.7  12.18  8.98  5.1  14.67 13.95 16.55 11.18  4.44  4.73  2.55  6.31\n",
      "  2.43  9.24  7.37 13.42 12.42 11.8  14.45  2.89 13.23 12.6  13.18 12.19\n",
      " 14.81  6.55 11.3  12.27 13.98  8.23 15.49  6.47 13.48 13.59 13.25 17.77\n",
      " 13.9   3.97 11.56 14.08 13.6   6.26  4.61 12.76 15.76  6.38  3.6  12.8\n",
      "  5.9   7.97  5.   10.97  5.88 12.34 12.03 14.97 15.06 12.85  6.54 11.24\n",
      " 12.64  7.06  5.38 13.14  3.99  3.32  4.51  4.12  3.93  2.4  11.75  4.03\n",
      " 15.85  6.81 14.25 14.09 16.42  6.7  12.74  2.76 12.12  6.99  6.68 11.81\n",
      "  7.96  5.06 13.16  2.13 13.17  5.12  5.65 12.37 10.53]\n",
      "***********\n",
      "Unique items in ttl_intl_mins:\n",
      "\n",
      "[10.  13.7 12.2  6.6 10.1  6.3  7.5  7.1  8.7 11.2 12.7  9.1 12.3 13.1\n",
      "  5.4 13.8  8.1 13.  10.6  5.7  9.5  7.7 10.3 15.5 14.7 11.1 14.2 12.6\n",
      " 11.8  8.3 14.5 10.5  9.4 14.6  9.2  3.5  8.5 13.2  7.4  8.8 11.   7.8\n",
      "  6.8 11.4  9.3  9.7 10.2  8.   5.8 12.1 12.  11.6  8.2  6.2  7.3  6.1\n",
      " 11.7 15.   9.8 12.4  8.6 10.9 13.9  8.9  7.9  5.3  4.4 12.5 11.3  9.\n",
      "  9.6 13.3 20.   7.2  6.4 14.1 14.3  6.9 11.5 15.8 12.8 16.2  0.  11.9\n",
      "  9.9  8.4 10.8 13.4 10.7 17.6  4.7  2.7 13.5 12.9 14.4 10.4  6.7 15.4\n",
      "  4.5  6.5 15.6  5.9 18.9  7.6  5.   7.  14.  18.  16.  14.8  3.7  2.\n",
      "  4.8 15.3  6.  13.6 17.2 17.5  5.6 18.2  3.6 16.5  4.6  5.1  4.1 16.3\n",
      " 14.9 16.4 16.7  1.3 15.2 15.1 15.9  5.5 16.1  4.  16.9  5.2  4.2 15.7\n",
      " 17.   3.9  3.8  2.2 17.1  4.9 17.9 17.3 18.4 17.8  4.3  2.9  3.1  3.3\n",
      "  2.6  3.4  1.1 18.3 16.6  2.1  2.4  2.5]\n",
      "***********\n",
      "Unique items in ttl_intl_calls:\n",
      "\n",
      "[ 3  5  7  6  4  2  9 19  1 10 15  8 11  0 12 13 18 14 16 20 17]\n",
      "***********\n",
      "Unique items in ttl_intl_charge:\n",
      "\n",
      "[2.7  3.7  3.29 1.78 2.73 1.7  2.03 1.92 2.35 3.02 3.43 2.46 3.32 3.54\n",
      " 1.46 3.73 2.19 3.51 2.86 1.54 2.57 2.08 2.78 4.19 3.97 3.   3.83 3.4\n",
      " 3.19 2.24 3.92 2.84 2.54 3.94 2.48 0.95 2.3  3.56 2.   2.38 2.97 2.11\n",
      " 1.84 3.08 2.51 2.62 2.75 2.16 1.57 3.27 3.24 3.13 2.21 1.67 1.97 1.65\n",
      " 3.16 4.05 2.65 3.35 2.32 2.94 3.75 2.4  2.13 1.43 1.19 3.38 3.05 2.43\n",
      " 2.59 3.59 5.4  1.94 1.73 3.81 3.86 1.86 3.11 4.27 3.46 4.37 0.   3.21\n",
      " 2.67 2.27 2.92 3.62 2.89 4.75 1.27 0.73 3.65 3.48 3.89 2.81 1.81 4.16\n",
      " 1.22 1.76 4.21 1.59 5.1  2.05 1.35 1.89 3.78 4.86 4.32 4.   1.   0.54\n",
      " 1.3  4.13 1.62 3.67 4.64 4.73 1.51 4.91 0.97 4.46 1.24 1.38 1.11 4.4\n",
      " 4.02 4.43 4.51 0.35 4.1  4.08 4.29 1.49 4.35 1.08 4.56 1.4  1.13 4.24\n",
      " 4.59 1.05 1.03 0.59 4.62 1.32 4.83 4.67 4.97 4.81 1.16 0.78 0.84 0.89\n",
      " 0.7  0.92 0.3  4.94 4.48 0.57 0.65 0.68]\n",
      "***********\n",
      "Unique items in cust_service_calls:\n",
      "\n",
      "[1 0 2 3 4 5 7 9 6 8]\n",
      "***********\n",
      "Unique items in churn:\n",
      "\n",
      "[False  True]\n",
      "***********\n"
     ]
    }
   ],
   "source": [
    "for col in df.columns:\n",
    "    print(f\"Unique items in {col}:\\n\")\n",
    "    print(df[col].unique())\n",
    "    print(\"***********\")"
   ]
  },
  {
   "cell_type": "markdown",
   "id": "76f3953a",
   "metadata": {},
   "source": [
    "#### 3.1.5: Changing Datatype to object"
   ]
  },
  {
   "cell_type": "code",
   "execution_count": 15,
   "id": "439cfde0",
   "metadata": {},
   "outputs": [],
   "source": [
    "df['area_code'] = df['area_code'].astype(str)"
   ]
  },
  {
   "cell_type": "markdown",
   "id": "a505674a",
   "metadata": {},
   "source": [
    "**`area_code` has been converted to a string because it represents a categorical label rather than a numeric value. Treating it as a string prevents meaningless arithmetic operations and ensures proper handling in EDA and Modelling**"
   ]
  },
  {
   "cell_type": "markdown",
   "id": "11c229a2",
   "metadata": {},
   "source": [
    "#### 3.1.6: Checking for Outliers"
   ]
  },
  {
   "cell_type": "code",
   "execution_count": 16,
   "id": "74557d11",
   "metadata": {},
   "outputs": [],
   "source": [
    "#storing numeric columns\n",
    "num_cols = df.select_dtypes(include='number')"
   ]
  },
  {
   "cell_type": "code",
   "execution_count": 17,
   "id": "1cbc68b5",
   "metadata": {
    "scrolled": false
   },
   "outputs": [
    {
     "data": {
      "image/png": "[encoded data removed]",
      "text/plain": [
       "<Figure size 1200x500 with 2 Axes>"
      ]
     },
     "metadata": {},
     "output_type": "display_data"
    },
    {
     "data": {
      "image/png": "[encoded data removed]",
      "text/plain": [
       "<Figure size 1200x500 with 2 Axes>"
      ]
     },
     "metadata": {},
     "output_type": "display_data"
    },
    {
     "data": {
      "image/png": "[encoded data removed]",
      "text/plain": [
       "<Figure size 1200x500 with 2 Axes>"
      ]
     },
     "metadata": {},
     "output_type": "display_data"
    },
    {
     "data": {
      "image/png": "[encoded data removed]",
      "text/plain": [
       "<Figure size 1200x500 with 2 Axes>"
      ]
     },
     "metadata": {},
     "output_type": "display_data"
    },
    {
     "data": {
      "image/png": "[encoded data removed]",
      "text/plain": [
       "<Figure size 1200x500 with 2 Axes>"
      ]
     },
     "metadata": {},
     "output_type": "display_data"
    },
    {
     "data": {
      "image/png": "[encoded data removed]",
      "text/plain": [
       "<Figure size 1200x500 with 2 Axes>"
      ]
     },
     "metadata": {},
     "output_type": "display_data"
    },
    {
     "data": {
      "image/png": "[encoded data removed]",
      "text/plain": [
       "<Figure size 1200x500 with 2 Axes>"
      ]
     },
     "metadata": {},
     "output_type": "display_data"
    },
    {
     "data": {
      "image/png": "[encoded data removed]",
      "text/plain": [
       "<Figure size 1200x500 with 1 Axes>"
      ]
     },
     "metadata": {},
     "output_type": "display_data"
    }
   ],
   "source": [
    "num_cols_list = num_cols.columns.tolist()\n",
    "n = len(num_cols_list)\n",
    "for i in range(0, n, 2):\n",
    "    cols_pair = num_cols_list[i:i+2] \n",
    "    fig, axes = plt.subplots(1, len(cols_pair), figsize=(12, 5))\n",
    "    axes = np.atleast_1d(axes)\n",
    "    for j, col in enumerate(cols_pair):\n",
    "        sns.boxplot(x=num_cols[col], ax=axes[j])\n",
    "        axes[j].set_title(f'Boxplot of {col}', fontweight='bold', color='red')\n",
    "    plt.tight_layout()\n",
    "    plt.show()"
   ]
  },
  {
   "cell_type": "markdown",
   "id": "4224d121",
   "metadata": {},
   "source": [
    "#### Decision to Retain Outliers\n",
    "Outliers were detected in several numeric variables, but I have retained them because they reflect meaningful customer behavior rather than errors. Since this data is collected through **Network Management Systems (NMS)** using automated **counters**, it is **reliable** and **free** from manual entry **errors**. High call minutes, charges, or frequent service calls can indicate genuine patterns such as heavy users or dissatisfied customers, which are critical for understanding churn. Moreover, extreme values are expected in telecom usage data and often represent real-world customer segments, such as business users or international callers, making them important to preserve in the analysis."
   ]
  },
  {
   "cell_type": "markdown",
   "id": "f72c01c2",
   "metadata": {},
   "source": [
    "### 3.2: Feature Engineering"
   ]
  },
  {
   "cell_type": "markdown",
   "id": "3b947efd",
   "metadata": {},
   "source": [
    "Engineered features will help us improve our model metrics as it defines relationships which would be missed by the models. Additional, we can check and quantify the performance of the model with and without engineered features"
   ]
  },
  {
   "cell_type": "markdown",
   "id": "4a05dbd3",
   "metadata": {},
   "source": [
    "#### 3.2.1: Creating Additional features"
   ]
  },
  {
   "cell_type": "code",
   "execution_count": 18,
   "id": "a02cd433",
   "metadata": {},
   "outputs": [
    {
     "data": {
      "text/html": [
       "<div>\n",
       "<style scoped>\n",
       "    .dataframe tbody tr th:only-of-type {\n",
       "        vertical-align: middle;\n",
       "    }\n",
       "\n",
       "    .dataframe tbody tr th {\n",
       "        vertical-align: top;\n",
       "    }\n",
       "\n",
       "    .dataframe thead th {\n",
       "        text-align: right;\n",
       "    }\n",
       "</style>\n",
       "<table border=\"1\" class=\"dataframe\">\n",
       "  <thead>\n",
       "    <tr style=\"text-align: right;\">\n",
       "      <th></th>\n",
       "      <th>state</th>\n",
       "      <th>acc_length</th>\n",
       "      <th>area_code</th>\n",
       "      <th>intl_plan</th>\n",
       "      <th>vmail_plan</th>\n",
       "      <th>num_vm_msgs</th>\n",
       "      <th>ttl_day_mins</th>\n",
       "      <th>ttl_day_calls</th>\n",
       "      <th>ttl_day_charge</th>\n",
       "      <th>ttl_eve_mins</th>\n",
       "      <th>ttl_eve_calls</th>\n",
       "      <th>ttl_eve_charge</th>\n",
       "      <th>ttl_ngt_mins</th>\n",
       "      <th>ttl_ngt_calls</th>\n",
       "      <th>ttl_ngt_charge</th>\n",
       "      <th>ttl_intl_mins</th>\n",
       "      <th>ttl_intl_calls</th>\n",
       "      <th>ttl_intl_charge</th>\n",
       "      <th>cust_service_calls</th>\n",
       "      <th>churn</th>\n",
       "    </tr>\n",
       "  </thead>\n",
       "  <tbody>\n",
       "    <tr>\n",
       "      <th>0</th>\n",
       "      <td>KS</td>\n",
       "      <td>128</td>\n",
       "      <td>415</td>\n",
       "      <td>no</td>\n",
       "      <td>yes</td>\n",
       "      <td>25</td>\n",
       "      <td>265.1</td>\n",
       "      <td>110</td>\n",
       "      <td>45.07</td>\n",
       "      <td>197.4</td>\n",
       "      <td>99</td>\n",
       "      <td>16.78</td>\n",
       "      <td>244.7</td>\n",
       "      <td>91</td>\n",
       "      <td>11.01</td>\n",
       "      <td>10.0</td>\n",
       "      <td>3</td>\n",
       "      <td>2.70</td>\n",
       "      <td>1</td>\n",
       "      <td>False</td>\n",
       "    </tr>\n",
       "    <tr>\n",
       "      <th>1</th>\n",
       "      <td>OH</td>\n",
       "      <td>107</td>\n",
       "      <td>415</td>\n",
       "      <td>no</td>\n",
       "      <td>yes</td>\n",
       "      <td>26</td>\n",
       "      <td>161.6</td>\n",
       "      <td>123</td>\n",
       "      <td>27.47</td>\n",
       "      <td>195.5</td>\n",
       "      <td>103</td>\n",
       "      <td>16.62</td>\n",
       "      <td>254.4</td>\n",
       "      <td>103</td>\n",
       "      <td>11.45</td>\n",
       "      <td>13.7</td>\n",
       "      <td>3</td>\n",
       "      <td>3.70</td>\n",
       "      <td>1</td>\n",
       "      <td>False</td>\n",
       "    </tr>\n",
       "    <tr>\n",
       "      <th>2</th>\n",
       "      <td>NJ</td>\n",
       "      <td>137</td>\n",
       "      <td>415</td>\n",
       "      <td>no</td>\n",
       "      <td>no</td>\n",
       "      <td>0</td>\n",
       "      <td>243.4</td>\n",
       "      <td>114</td>\n",
       "      <td>41.38</td>\n",
       "      <td>121.2</td>\n",
       "      <td>110</td>\n",
       "      <td>10.30</td>\n",
       "      <td>162.6</td>\n",
       "      <td>104</td>\n",
       "      <td>7.32</td>\n",
       "      <td>12.2</td>\n",
       "      <td>5</td>\n",
       "      <td>3.29</td>\n",
       "      <td>0</td>\n",
       "      <td>False</td>\n",
       "    </tr>\n",
       "    <tr>\n",
       "      <th>3</th>\n",
       "      <td>OH</td>\n",
       "      <td>84</td>\n",
       "      <td>408</td>\n",
       "      <td>yes</td>\n",
       "      <td>no</td>\n",
       "      <td>0</td>\n",
       "      <td>299.4</td>\n",
       "      <td>71</td>\n",
       "      <td>50.90</td>\n",
       "      <td>61.9</td>\n",
       "      <td>88</td>\n",
       "      <td>5.26</td>\n",
       "      <td>196.9</td>\n",
       "      <td>89</td>\n",
       "      <td>8.86</td>\n",
       "      <td>6.6</td>\n",
       "      <td>7</td>\n",
       "      <td>1.78</td>\n",
       "      <td>2</td>\n",
       "      <td>False</td>\n",
       "    </tr>\n",
       "    <tr>\n",
       "      <th>4</th>\n",
       "      <td>OK</td>\n",
       "      <td>75</td>\n",
       "      <td>415</td>\n",
       "      <td>yes</td>\n",
       "      <td>no</td>\n",
       "      <td>0</td>\n",
       "      <td>166.7</td>\n",
       "      <td>113</td>\n",
       "      <td>28.34</td>\n",
       "      <td>148.3</td>\n",
       "      <td>122</td>\n",
       "      <td>12.61</td>\n",
       "      <td>186.9</td>\n",
       "      <td>121</td>\n",
       "      <td>8.41</td>\n",
       "      <td>10.1</td>\n",
       "      <td>3</td>\n",
       "      <td>2.73</td>\n",
       "      <td>3</td>\n",
       "      <td>False</td>\n",
       "    </tr>\n",
       "  </tbody>\n",
       "</table>\n",
       "</div>"
      ],
      "text/plain": [
       "  state  acc_length area_code intl_plan vmail_plan  num_vm_msgs  ttl_day_mins  \\\n",
       "0    KS         128       415        no        yes           25         265.1   \n",
       "1    OH         107       415        no        yes           26         161.6   \n",
       "2    NJ         137       415        no         no            0         243.4   \n",
       "3    OH          84       408       yes         no            0         299.4   \n",
       "4    OK          75       415       yes         no            0         166.7   \n",
       "\n",
       "   ttl_day_calls  ttl_day_charge  ttl_eve_mins  ttl_eve_calls  ttl_eve_charge  \\\n",
       "0            110           45.07         197.4             99           16.78   \n",
       "1            123           27.47         195.5            103           16.62   \n",
       "2            114           41.38         121.2            110           10.30   \n",
       "3             71           50.90          61.9             88            5.26   \n",
       "4            113           28.34         148.3            122           12.61   \n",
       "\n",
       "   ttl_ngt_mins  ttl_ngt_calls  ttl_ngt_charge  ttl_intl_mins  ttl_intl_calls  \\\n",
       "0         244.7             91           11.01           10.0               3   \n",
       "1         254.4            103           11.45           13.7               3   \n",
       "2         162.6            104            7.32           12.2               5   \n",
       "3         196.9             89            8.86            6.6               7   \n",
       "4         186.9            121            8.41           10.1               3   \n",
       "\n",
       "   ttl_intl_charge  cust_service_calls  churn  \n",
       "0             2.70                   1  False  \n",
       "1             3.70                   1  False  \n",
       "2             3.29                   0  False  \n",
       "3             1.78                   2  False  \n",
       "4             2.73                   3  False  "
      ]
     },
     "execution_count": 18,
     "metadata": {},
     "output_type": "execute_result"
    }
   ],
   "source": [
    "#creating a copy of original dataframe\n",
    "df1 = df.copy()\n",
    "df1.head()"
   ]
  },
  {
   "cell_type": "code",
   "execution_count": 19,
   "id": "73ce7f52",
   "metadata": {},
   "outputs": [
    {
     "data": {
      "text/plain": [
       "(3333, 20)"
      ]
     },
     "execution_count": 19,
     "metadata": {},
     "output_type": "execute_result"
    }
   ],
   "source": [
    "#checking shape before\n",
    "df1.shape"
   ]
  },
  {
   "cell_type": "code",
   "execution_count": 20,
   "id": "a5e96cfb",
   "metadata": {},
   "outputs": [
    {
     "data": {
      "text/plain": [
       "(3333, 23)"
      ]
     },
     "execution_count": 20,
     "metadata": {},
     "output_type": "execute_result"
    }
   ],
   "source": [
    "#Combining related features\n",
    "df1['total_calls'] = (df1['ttl_day_calls'] + df1['ttl_eve_calls'] + df1['ttl_ngt_calls'] + df1['ttl_intl_calls'])\n",
    "df1['total_mins'] = (df1['ttl_day_mins'] + df1['ttl_eve_mins'] + df1['ttl_ngt_mins'] + df1['ttl_intl_mins'])\n",
    "df1['total_charge'] = (df1['ttl_day_charge'] + df1['ttl_eve_charge'] + df1['ttl_ngt_charge'] + df1['ttl_intl_charge'])\n",
    "df1.shape"
   ]
  },
  {
   "cell_type": "code",
   "execution_count": 21,
   "id": "de2405db",
   "metadata": {},
   "outputs": [
    {
     "data": {
      "text/plain": [
       "(3333, 25)"
      ]
     },
     "execution_count": 21,
     "metadata": {},
     "output_type": "execute_result"
    }
   ],
   "source": [
    "# Creating ratio features\n",
    "df1['day_call_ratio'] = df1['ttl_day_calls'] / df1['total_calls'].replace(0, 1)\n",
    "df1['intl_ratio'] = df1['ttl_intl_mins'] / df1['total_mins'].replace(0, 1)\n",
    "df1.shape"
   ]
  },
  {
   "cell_type": "markdown",
   "id": "79719f0d",
   "metadata": {},
   "source": [
    "#### 3.2.3: Saving the cleaned dataset with additional features"
   ]
  },
  {
   "cell_type": "code",
   "execution_count": 22,
   "id": "6c6ec01b",
   "metadata": {},
   "outputs": [],
   "source": [
    "df1.to_csv(\"cleaned_data/data_final.csv\", index=False)"
   ]
  },
  {
   "cell_type": "markdown",
   "id": "b59931c2",
   "metadata": {},
   "source": [
    "## 4: Exploratory Data Analysis"
   ]
  },
  {
   "cell_type": "code",
   "execution_count": 23,
   "id": "563f7b44",
   "metadata": {},
   "outputs": [
    {
     "data": {
      "text/html": [
       "<div>\n",
       "<style scoped>\n",
       "    .dataframe tbody tr th:only-of-type {\n",
       "        vertical-align: middle;\n",
       "    }\n",
       "\n",
       "    .dataframe tbody tr th {\n",
       "        vertical-align: top;\n",
       "    }\n",
       "\n",
       "    .dataframe thead th {\n",
       "        text-align: right;\n",
       "    }\n",
       "</style>\n",
       "<table border=\"1\" class=\"dataframe\">\n",
       "  <thead>\n",
       "    <tr style=\"text-align: right;\">\n",
       "      <th></th>\n",
       "      <th>state</th>\n",
       "      <th>acc_length</th>\n",
       "      <th>area_code</th>\n",
       "      <th>intl_plan</th>\n",
       "      <th>vmail_plan</th>\n",
       "      <th>num_vm_msgs</th>\n",
       "      <th>ttl_day_mins</th>\n",
       "      <th>ttl_day_calls</th>\n",
       "      <th>ttl_day_charge</th>\n",
       "      <th>ttl_eve_mins</th>\n",
       "      <th>...</th>\n",
       "      <th>ttl_intl_mins</th>\n",
       "      <th>ttl_intl_calls</th>\n",
       "      <th>ttl_intl_charge</th>\n",
       "      <th>cust_service_calls</th>\n",
       "      <th>churn</th>\n",
       "      <th>total_calls</th>\n",
       "      <th>total_mins</th>\n",
       "      <th>total_charge</th>\n",
       "      <th>day_call_ratio</th>\n",
       "      <th>intl_ratio</th>\n",
       "    </tr>\n",
       "  </thead>\n",
       "  <tbody>\n",
       "    <tr>\n",
       "      <th>0</th>\n",
       "      <td>KS</td>\n",
       "      <td>128</td>\n",
       "      <td>415</td>\n",
       "      <td>no</td>\n",
       "      <td>yes</td>\n",
       "      <td>25</td>\n",
       "      <td>265.1</td>\n",
       "      <td>110</td>\n",
       "      <td>45.07</td>\n",
       "      <td>197.4</td>\n",
       "      <td>...</td>\n",
       "      <td>10.0</td>\n",
       "      <td>3</td>\n",
       "      <td>2.70</td>\n",
       "      <td>1</td>\n",
       "      <td>False</td>\n",
       "      <td>303</td>\n",
       "      <td>717.2</td>\n",
       "      <td>75.56</td>\n",
       "      <td>0.363036</td>\n",
       "      <td>0.013943</td>\n",
       "    </tr>\n",
       "    <tr>\n",
       "      <th>1</th>\n",
       "      <td>OH</td>\n",
       "      <td>107</td>\n",
       "      <td>415</td>\n",
       "      <td>no</td>\n",
       "      <td>yes</td>\n",
       "      <td>26</td>\n",
       "      <td>161.6</td>\n",
       "      <td>123</td>\n",
       "      <td>27.47</td>\n",
       "      <td>195.5</td>\n",
       "      <td>...</td>\n",
       "      <td>13.7</td>\n",
       "      <td>3</td>\n",
       "      <td>3.70</td>\n",
       "      <td>1</td>\n",
       "      <td>False</td>\n",
       "      <td>332</td>\n",
       "      <td>625.2</td>\n",
       "      <td>59.24</td>\n",
       "      <td>0.370482</td>\n",
       "      <td>0.021913</td>\n",
       "    </tr>\n",
       "    <tr>\n",
       "      <th>2</th>\n",
       "      <td>NJ</td>\n",
       "      <td>137</td>\n",
       "      <td>415</td>\n",
       "      <td>no</td>\n",
       "      <td>no</td>\n",
       "      <td>0</td>\n",
       "      <td>243.4</td>\n",
       "      <td>114</td>\n",
       "      <td>41.38</td>\n",
       "      <td>121.2</td>\n",
       "      <td>...</td>\n",
       "      <td>12.2</td>\n",
       "      <td>5</td>\n",
       "      <td>3.29</td>\n",
       "      <td>0</td>\n",
       "      <td>False</td>\n",
       "      <td>333</td>\n",
       "      <td>539.4</td>\n",
       "      <td>62.29</td>\n",
       "      <td>0.342342</td>\n",
       "      <td>0.022618</td>\n",
       "    </tr>\n",
       "    <tr>\n",
       "      <th>3</th>\n",
       "      <td>OH</td>\n",
       "      <td>84</td>\n",
       "      <td>408</td>\n",
       "      <td>yes</td>\n",
       "      <td>no</td>\n",
       "      <td>0</td>\n",
       "      <td>299.4</td>\n",
       "      <td>71</td>\n",
       "      <td>50.90</td>\n",
       "      <td>61.9</td>\n",
       "      <td>...</td>\n",
       "      <td>6.6</td>\n",
       "      <td>7</td>\n",
       "      <td>1.78</td>\n",
       "      <td>2</td>\n",
       "      <td>False</td>\n",
       "      <td>255</td>\n",
       "      <td>564.8</td>\n",
       "      <td>66.80</td>\n",
       "      <td>0.278431</td>\n",
       "      <td>0.011686</td>\n",
       "    </tr>\n",
       "    <tr>\n",
       "      <th>4</th>\n",
       "      <td>OK</td>\n",
       "      <td>75</td>\n",
       "      <td>415</td>\n",
       "      <td>yes</td>\n",
       "      <td>no</td>\n",
       "      <td>0</td>\n",
       "      <td>166.7</td>\n",
       "      <td>113</td>\n",
       "      <td>28.34</td>\n",
       "      <td>148.3</td>\n",
       "      <td>...</td>\n",
       "      <td>10.1</td>\n",
       "      <td>3</td>\n",
       "      <td>2.73</td>\n",
       "      <td>3</td>\n",
       "      <td>False</td>\n",
       "      <td>359</td>\n",
       "      <td>512.0</td>\n",
       "      <td>52.09</td>\n",
       "      <td>0.314763</td>\n",
       "      <td>0.019727</td>\n",
       "    </tr>\n",
       "  </tbody>\n",
       "</table>\n",
       "<p>5 rows × 25 columns</p>\n",
       "</div>"
      ],
      "text/plain": [
       "  state  acc_length  area_code intl_plan vmail_plan  num_vm_msgs  \\\n",
       "0    KS         128        415        no        yes           25   \n",
       "1    OH         107        415        no        yes           26   \n",
       "2    NJ         137        415        no         no            0   \n",
       "3    OH          84        408       yes         no            0   \n",
       "4    OK          75        415       yes         no            0   \n",
       "\n",
       "   ttl_day_mins  ttl_day_calls  ttl_day_charge  ttl_eve_mins  ...  \\\n",
       "0         265.1            110           45.07         197.4  ...   \n",
       "1         161.6            123           27.47         195.5  ...   \n",
       "2         243.4            114           41.38         121.2  ...   \n",
       "3         299.4             71           50.90          61.9  ...   \n",
       "4         166.7            113           28.34         148.3  ...   \n",
       "\n",
       "   ttl_intl_mins  ttl_intl_calls  ttl_intl_charge  cust_service_calls  churn  \\\n",
       "0           10.0               3             2.70                   1  False   \n",
       "1           13.7               3             3.70                   1  False   \n",
       "2           12.2               5             3.29                   0  False   \n",
       "3            6.6               7             1.78                   2  False   \n",
       "4           10.1               3             2.73                   3  False   \n",
       "\n",
       "   total_calls  total_mins  total_charge  day_call_ratio  intl_ratio  \n",
       "0          303       717.2         75.56        0.363036    0.013943  \n",
       "1          332       625.2         59.24        0.370482    0.021913  \n",
       "2          333       539.4         62.29        0.342342    0.022618  \n",
       "3          255       564.8         66.80        0.278431    0.011686  \n",
       "4          359       512.0         52.09        0.314763    0.019727  \n",
       "\n",
       "[5 rows x 25 columns]"
      ]
     },
     "execution_count": 23,
     "metadata": {},
     "output_type": "execute_result"
    }
   ],
   "source": [
    "#importing the extended dataset\n",
    "data = pd.read_csv('cleaned_data/data_final.csv')\n",
    "data.head()"
   ]
  },
  {
   "cell_type": "code",
   "execution_count": 24,
   "id": "4ad09255",
   "metadata": {},
   "outputs": [
    {
     "data": {
      "text/plain": [
       "(3333, 25)"
      ]
     },
     "execution_count": 24,
     "metadata": {},
     "output_type": "execute_result"
    }
   ],
   "source": [
    "#checking shape\n",
    "data.shape"
   ]
  },
  {
   "cell_type": "markdown",
   "id": "2ce5f4ef",
   "metadata": {},
   "source": [
    "### 4.1: Univariate Analysis"
   ]
  },
  {
   "cell_type": "markdown",
   "id": "70e2bbff",
   "metadata": {},
   "source": [
    "#### 4.1.1: Churn distribution"
   ]
  },
  {
   "cell_type": "code",
   "execution_count": 35,
   "id": "685ad7c5",
   "metadata": {},
   "outputs": [
    {
     "data": {
      "image/png": "[encoded data removed]",
      "text/plain": [
       "<Figure size 640x480 with 1 Axes>"
      ]
     },
     "metadata": {},
     "output_type": "display_data"
    }
   ],
   "source": [
    "churn_cnts = data['churn'].value_counts()\n",
    "labels = data['churn'].value_counts(normalize=True)*100\n",
    "sns.barplot(x=churn_cnts.index, y=churn_cnts.values)\n",
    "plt.title(\"Churn Distribution\", fontweight='bold',color='red')\n",
    "legend_labels = [\n",
    "    f\"{idx}: {count} ({perc:.1f}%)\"\n",
    "    for idx, count, perc in zip(churn_cnts.index, churn_cnts.values, labels)\n",
    "]\n",
    "plt.legend(title=\"Churn Info\", labels=legend_labels)\n",
    "plt.xlabel(\"Churn\")\n",
    "plt.ylabel(\"Count\")\n",
    "plt.show()"
   ]
  },
  {
   "cell_type": "markdown",
   "id": "a8098cfc",
   "metadata": {},
   "source": [
    "**From the barplot, we can see there is class imbalance in our target variable as 85% of the dataset did not churn while 14.5% customers did churn.**"
   ]
  },
  {
   "cell_type": "markdown",
   "id": "51da911d",
   "metadata": {},
   "source": [
    "#### 4.1.2: How often customers call Support"
   ]
  },
  {
   "cell_type": "code",
   "execution_count": 45,
   "id": "a45ab73c",
   "metadata": {},
   "outputs": [
    {
     "data": {
      "image/png": "[encoded data removed]",
      "text/plain": [
       "<Figure size 640x480 with 1 Axes>"
      ]
     },
     "metadata": {},
     "output_type": "display_data"
    }
   ],
   "source": [
    "# calculating statistics\n",
    "mean_calls = data['cust_service_calls'].mean()\n",
    "q1 = data['cust_service_calls'].quantile(0.25)\n",
    "q3 = data['cust_service_calls'].quantile(0.75)\n",
    "iqr = q3 - q1\n",
    "\n",
    "#plotting the graph\n",
    "plt.hist(data['cust_service_calls'], bins=8, edgecolor='black')\n",
    "plt.title(\"Customer Support Calls\", fontweight='bold', color='red')\n",
    "plt.xlabel(\"cust_service_calls\")\n",
    "plt.ylabel(\"Count\")\n",
    "\n",
    "#adding mean and iqr lines\n",
    "plt.axvline(mean_calls, color='blue', linestyle='-', linewidth=2.5, label=f\"Mean = {mean_calls:.2f}\")\n",
    "plt.axvline(q1, color='red', linestyle='--', linewidth=2, label=f\"Q1 = {q1:.2f}\")\n",
    "plt.axvline(q3, color='red', linestyle='--', linewidth=2, label=f\"Q3 = {q3:.2f}\")\n",
    "\n",
    "#formating\n",
    "plt.legend()\n",
    "plt.tight_layout()\n",
    "plt.show();"
   ]
  },
  {
   "cell_type": "markdown",
   "id": "7ab1f2be",
   "metadata": {},
   "source": [
    "**Majority of customers in the dataset did not place customer support calls since more than two-thirds of the dataset have zero calls. The customers who made calls average atleast one phone call with the highest being 8 calls. The distribution is skewed to the left showing that high number of support calls are rare.**"
   ]
  },
  {
   "cell_type": "markdown",
   "id": "93e3a033",
   "metadata": {},
   "source": [
    "#### 4.1.3: What is the proportion of customers on International Plan"
   ]
  },
  {
   "cell_type": "code",
   "execution_count": 48,
   "id": "b5e02848",
   "metadata": {},
   "outputs": [
    {
     "data": {
      "image/png": "[encoded data removed]",
      "text/plain": [
       "<Figure size 640x480 with 1 Axes>"
      ]
     },
     "metadata": {},
     "output_type": "display_data"
    }
   ],
   "source": [
    "sns.countplot(x='intl_plan', data=data)\n",
    "plt.title(\"Number of Customers with International Plan\", fontweight='bold', color='red')\n",
    "plt.xlabel(\"International Plan\")\n",
    "plt.ylabel(\"Count\")\n",
    "plt.tight_layout()\n",
    "plt.show();\n"
   ]
  },
  {
   "cell_type": "markdown",
   "id": "bb135ae2",
   "metadata": {},
   "source": [
    "###  Bivariate analysis"
   ]
  },
  {
   "cell_type": "markdown",
   "id": "50a66d79",
   "metadata": {},
   "source": [
    "###  Multivariate analysis"
   ]
  },
  {
   "cell_type": "markdown",
   "id": "39c231ea",
   "metadata": {},
   "source": [
    "## Inferential Analysis"
   ]
  },
  {
   "cell_type": "markdown",
   "id": "0ee18918",
   "metadata": {},
   "source": [
    "Pearson Correlation Test, T test, One_Way Anova or Chi_test"
   ]
  },
  {
   "cell_type": "markdown",
   "id": "0f7bd79f",
   "metadata": {},
   "source": [
    "## Modeling\n",
    "\n",
    "### data Preprocessing\n",
    "\n",
    "follow from mwalimu"
   ]
  },
  {
   "cell_type": "code",
   "execution_count": 46,
   "id": "57701490",
   "metadata": {
    "scrolled": false
   },
   "outputs": [
    {
     "name": "stdout",
     "output_type": "stream",
     "text": [
      "<class 'pandas.core.frame.DataFrame'>\n",
      "RangeIndex: 3333 entries, 0 to 3332\n",
      "Data columns (total 25 columns):\n",
      " #   Column              Non-Null Count  Dtype  \n",
      "---  ------              --------------  -----  \n",
      " 0   state               3333 non-null   object \n",
      " 1   acc_length          3333 non-null   int64  \n",
      " 2   area_code           3333 non-null   int64  \n",
      " 3   intl_plan           3333 non-null   object \n",
      " 4   vmail_plan          3333 non-null   object \n",
      " 5   num_vm_msgs         3333 non-null   int64  \n",
      " 6   ttl_day_mins        3333 non-null   float64\n",
      " 7   ttl_day_calls       3333 non-null   int64  \n",
      " 8   ttl_day_charge      3333 non-null   float64\n",
      " 9   ttl_eve_mins        3333 non-null   float64\n",
      " 10  ttl_eve_calls       3333 non-null   int64  \n",
      " 11  ttl_eve_charge      3333 non-null   float64\n",
      " 12  ttl_ngt_mins        3333 non-null   float64\n",
      " 13  ttl_ngt_calls       3333 non-null   int64  \n",
      " 14  ttl_ngt_charge      3333 non-null   float64\n",
      " 15  ttl_intl_mins       3333 non-null   float64\n",
      " 16  ttl_intl_calls      3333 non-null   int64  \n",
      " 17  ttl_intl_charge     3333 non-null   float64\n",
      " 18  cust_service_calls  3333 non-null   int64  \n",
      " 19  churn               3333 non-null   bool   \n",
      " 20  total_calls         3333 non-null   int64  \n",
      " 21  total_mins          3333 non-null   float64\n",
      " 22  total_charge        3333 non-null   float64\n",
      " 23  day_call_ratio      3333 non-null   float64\n",
      " 24  intl_ratio          3333 non-null   float64\n",
      "dtypes: bool(1), float64(12), int64(9), object(3)\n",
      "memory usage: 628.3+ KB\n"
     ]
    }
   ],
   "source": [
    "data.info()"
   ]
  },
  {
   "cell_type": "code",
   "execution_count": null,
   "id": "6c7ea81f",
   "metadata": {},
   "outputs": [],
   "source": []
  }
 ],
 "metadata": {
  "kernelspec": {
   "display_name": "Python 3 (ipykernel)",
   "language": "python",
   "name": "python3"
  },
  "language_info": {
   "codemirror_mode": {
    "name": "ipython",
    "version": 3
   },
   "file_extension": ".py",
   "mimetype": "text/x-python",
   "name": "python",
   "nbconvert_exporter": "python",
   "pygments_lexer": "ipython3",
   "version": "3.11.7"
  }
 },
 "nbformat": 4,
 "nbformat_minor": 5
}
